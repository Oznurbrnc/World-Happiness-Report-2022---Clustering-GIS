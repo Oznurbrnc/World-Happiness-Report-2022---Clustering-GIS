{
 "cells": [
  {
   "cell_type": "code",
   "execution_count": 1,
   "metadata": {
    "id": "oDN75NC_sgCF"
   },
   "outputs": [],
   "source": [
    "import pandas as pd\n",
    "import warnings\n",
    "warnings.filterwarnings('ignore')"
   ]
  },
  {
   "cell_type": "code",
   "execution_count": 2,
   "metadata": {
    "id": "FSqC47BRxHKt"
   },
   "outputs": [],
   "source": [
    "df=pd.read_csv('World Happiness Report 2022.csv')"
   ]
  },
  {
   "cell_type": "code",
   "execution_count": 3,
   "metadata": {
    "colab": {
     "base_uri": "https://localhost:8080/",
     "height": 268
    },
    "id": "yC3LA6ZJxWOh",
    "outputId": "d9933bf3-0fb6-45fb-dc9f-34cb345ad290"
   },
   "outputs": [
    {
     "data": {
      "text/html": [
       "<div>\n",
       "<style scoped>\n",
       "    .dataframe tbody tr th:only-of-type {\n",
       "        vertical-align: middle;\n",
       "    }\n",
       "\n",
       "    .dataframe tbody tr th {\n",
       "        vertical-align: top;\n",
       "    }\n",
       "\n",
       "    .dataframe thead th {\n",
       "        text-align: right;\n",
       "    }\n",
       "</style>\n",
       "<table border=\"1\" class=\"dataframe\">\n",
       "  <thead>\n",
       "    <tr style=\"text-align: right;\">\n",
       "      <th></th>\n",
       "      <th>RANK</th>\n",
       "      <th>Country</th>\n",
       "      <th>Happiness score</th>\n",
       "      <th>Whisker-high</th>\n",
       "      <th>Whisker-low</th>\n",
       "      <th>Dystopia (1.83) + residual</th>\n",
       "      <th>Explained by: GDP per capita</th>\n",
       "      <th>Explained by: Social support</th>\n",
       "      <th>Explained by: Healthy life expectancy</th>\n",
       "      <th>Explained by: Freedom to make life choices</th>\n",
       "      <th>Explained by: Generosity</th>\n",
       "      <th>Explained by: Perceptions of corruption</th>\n",
       "    </tr>\n",
       "  </thead>\n",
       "  <tbody>\n",
       "    <tr>\n",
       "      <th>0</th>\n",
       "      <td>1</td>\n",
       "      <td>Finland</td>\n",
       "      <td>7.821</td>\n",
       "      <td>7.886</td>\n",
       "      <td>7.756</td>\n",
       "      <td>2.518</td>\n",
       "      <td>1.892</td>\n",
       "      <td>1.258</td>\n",
       "      <td>0.775</td>\n",
       "      <td>0.736</td>\n",
       "      <td>0.109</td>\n",
       "      <td>0.534</td>\n",
       "    </tr>\n",
       "    <tr>\n",
       "      <th>1</th>\n",
       "      <td>2</td>\n",
       "      <td>Denmark</td>\n",
       "      <td>7.636</td>\n",
       "      <td>7.710</td>\n",
       "      <td>7.563</td>\n",
       "      <td>2.226</td>\n",
       "      <td>1.953</td>\n",
       "      <td>1.243</td>\n",
       "      <td>0.777</td>\n",
       "      <td>0.719</td>\n",
       "      <td>0.188</td>\n",
       "      <td>0.532</td>\n",
       "    </tr>\n",
       "    <tr>\n",
       "      <th>2</th>\n",
       "      <td>3</td>\n",
       "      <td>Iceland</td>\n",
       "      <td>7.557</td>\n",
       "      <td>7.651</td>\n",
       "      <td>7.464</td>\n",
       "      <td>2.320</td>\n",
       "      <td>1.936</td>\n",
       "      <td>1.320</td>\n",
       "      <td>0.803</td>\n",
       "      <td>0.718</td>\n",
       "      <td>0.270</td>\n",
       "      <td>0.191</td>\n",
       "    </tr>\n",
       "    <tr>\n",
       "      <th>3</th>\n",
       "      <td>4</td>\n",
       "      <td>Switzerland</td>\n",
       "      <td>7.512</td>\n",
       "      <td>7.586</td>\n",
       "      <td>7.437</td>\n",
       "      <td>2.153</td>\n",
       "      <td>2.026</td>\n",
       "      <td>1.226</td>\n",
       "      <td>0.822</td>\n",
       "      <td>0.677</td>\n",
       "      <td>0.147</td>\n",
       "      <td>0.461</td>\n",
       "    </tr>\n",
       "    <tr>\n",
       "      <th>4</th>\n",
       "      <td>5</td>\n",
       "      <td>Netherlands</td>\n",
       "      <td>7.415</td>\n",
       "      <td>7.471</td>\n",
       "      <td>7.359</td>\n",
       "      <td>2.137</td>\n",
       "      <td>1.945</td>\n",
       "      <td>1.206</td>\n",
       "      <td>0.787</td>\n",
       "      <td>0.651</td>\n",
       "      <td>0.271</td>\n",
       "      <td>0.419</td>\n",
       "    </tr>\n",
       "  </tbody>\n",
       "</table>\n",
       "</div>"
      ],
      "text/plain": [
       "   RANK      Country  Happiness score  Whisker-high  Whisker-low  \\\n",
       "0     1      Finland            7.821         7.886        7.756   \n",
       "1     2      Denmark            7.636         7.710        7.563   \n",
       "2     3      Iceland            7.557         7.651        7.464   \n",
       "3     4  Switzerland            7.512         7.586        7.437   \n",
       "4     5  Netherlands            7.415         7.471        7.359   \n",
       "\n",
       "   Dystopia (1.83) + residual  Explained by: GDP per capita  \\\n",
       "0                       2.518                         1.892   \n",
       "1                       2.226                         1.953   \n",
       "2                       2.320                         1.936   \n",
       "3                       2.153                         2.026   \n",
       "4                       2.137                         1.945   \n",
       "\n",
       "   Explained by: Social support  Explained by: Healthy life expectancy  \\\n",
       "0                         1.258                                  0.775   \n",
       "1                         1.243                                  0.777   \n",
       "2                         1.320                                  0.803   \n",
       "3                         1.226                                  0.822   \n",
       "4                         1.206                                  0.787   \n",
       "\n",
       "   Explained by: Freedom to make life choices  Explained by: Generosity  \\\n",
       "0                                       0.736                     0.109   \n",
       "1                                       0.719                     0.188   \n",
       "2                                       0.718                     0.270   \n",
       "3                                       0.677                     0.147   \n",
       "4                                       0.651                     0.271   \n",
       "\n",
       "   Explained by: Perceptions of corruption  \n",
       "0                                    0.534  \n",
       "1                                    0.532  \n",
       "2                                    0.191  \n",
       "3                                    0.461  \n",
       "4                                    0.419  "
      ]
     },
     "execution_count": 3,
     "metadata": {},
     "output_type": "execute_result"
    }
   ],
   "source": [
    "df.head()"
   ]
  },
  {
   "cell_type": "code",
   "execution_count": 4,
   "metadata": {
    "colab": {
     "base_uri": "https://localhost:8080/",
     "height": 285
    },
    "id": "-jb_CND8xUjr",
    "outputId": "97eef986-69df-464e-921f-5c8b1f7504c9"
   },
   "outputs": [
    {
     "data": {
      "text/html": [
       "<div>\n",
       "<style scoped>\n",
       "    .dataframe tbody tr th:only-of-type {\n",
       "        vertical-align: middle;\n",
       "    }\n",
       "\n",
       "    .dataframe tbody tr th {\n",
       "        vertical-align: top;\n",
       "    }\n",
       "\n",
       "    .dataframe thead th {\n",
       "        text-align: right;\n",
       "    }\n",
       "</style>\n",
       "<table border=\"1\" class=\"dataframe\">\n",
       "  <thead>\n",
       "    <tr style=\"text-align: right;\">\n",
       "      <th></th>\n",
       "      <th>RANK</th>\n",
       "      <th>Country</th>\n",
       "      <th>Happiness score</th>\n",
       "      <th>Whisker-high</th>\n",
       "      <th>Whisker-low</th>\n",
       "      <th>Dystopia (1.83) + residual</th>\n",
       "      <th>Explained by: GDP per capita</th>\n",
       "      <th>Explained by: Social support</th>\n",
       "      <th>Explained by: Healthy life expectancy</th>\n",
       "      <th>Explained by: Freedom to make life choices</th>\n",
       "      <th>Explained by: Generosity</th>\n",
       "      <th>Explained by: Perceptions of corruption</th>\n",
       "    </tr>\n",
       "  </thead>\n",
       "  <tbody>\n",
       "    <tr>\n",
       "      <th>71</th>\n",
       "      <td>72</td>\n",
       "      <td>China</td>\n",
       "      <td>5.585</td>\n",
       "      <td>5.650</td>\n",
       "      <td>5.520</td>\n",
       "      <td>1.516</td>\n",
       "      <td>1.508</td>\n",
       "      <td>0.958</td>\n",
       "      <td>0.705</td>\n",
       "      <td>0.656</td>\n",
       "      <td>0.099</td>\n",
       "      <td>0.142</td>\n",
       "    </tr>\n",
       "    <tr>\n",
       "      <th>86</th>\n",
       "      <td>87</td>\n",
       "      <td>Indonesia</td>\n",
       "      <td>5.240</td>\n",
       "      <td>5.341</td>\n",
       "      <td>5.139</td>\n",
       "      <td>1.300</td>\n",
       "      <td>1.382</td>\n",
       "      <td>0.883</td>\n",
       "      <td>0.539</td>\n",
       "      <td>0.620</td>\n",
       "      <td>0.468</td>\n",
       "      <td>0.047</td>\n",
       "    </tr>\n",
       "    <tr>\n",
       "      <th>22</th>\n",
       "      <td>23</td>\n",
       "      <td>Costa Rica</td>\n",
       "      <td>6.582</td>\n",
       "      <td>6.683</td>\n",
       "      <td>6.481</td>\n",
       "      <td>2.346</td>\n",
       "      <td>1.584</td>\n",
       "      <td>1.054</td>\n",
       "      <td>0.744</td>\n",
       "      <td>0.661</td>\n",
       "      <td>0.089</td>\n",
       "      <td>0.102</td>\n",
       "    </tr>\n",
       "    <tr>\n",
       "      <th>121</th>\n",
       "      <td>122</td>\n",
       "      <td>Palestinian Territories*</td>\n",
       "      <td>4.483</td>\n",
       "      <td>4.665</td>\n",
       "      <td>4.300</td>\n",
       "      <td>1.368</td>\n",
       "      <td>1.148</td>\n",
       "      <td>0.957</td>\n",
       "      <td>0.521</td>\n",
       "      <td>0.336</td>\n",
       "      <td>0.073</td>\n",
       "      <td>0.079</td>\n",
       "    </tr>\n",
       "    <tr>\n",
       "      <th>78</th>\n",
       "      <td>79</td>\n",
       "      <td>North Cyprus*</td>\n",
       "      <td>5.467</td>\n",
       "      <td>5.609</td>\n",
       "      <td>5.325</td>\n",
       "      <td>1.078</td>\n",
       "      <td>1.815</td>\n",
       "      <td>0.888</td>\n",
       "      <td>0.819</td>\n",
       "      <td>0.523</td>\n",
       "      <td>0.130</td>\n",
       "      <td>0.213</td>\n",
       "    </tr>\n",
       "  </tbody>\n",
       "</table>\n",
       "</div>"
      ],
      "text/plain": [
       "     RANK                   Country  Happiness score  Whisker-high  \\\n",
       "71     72                     China            5.585         5.650   \n",
       "86     87                 Indonesia            5.240         5.341   \n",
       "22     23                Costa Rica            6.582         6.683   \n",
       "121   122  Palestinian Territories*            4.483         4.665   \n",
       "78     79             North Cyprus*            5.467         5.609   \n",
       "\n",
       "     Whisker-low  Dystopia (1.83) + residual  Explained by: GDP per capita  \\\n",
       "71         5.520                       1.516                         1.508   \n",
       "86         5.139                       1.300                         1.382   \n",
       "22         6.481                       2.346                         1.584   \n",
       "121        4.300                       1.368                         1.148   \n",
       "78         5.325                       1.078                         1.815   \n",
       "\n",
       "     Explained by: Social support  Explained by: Healthy life expectancy  \\\n",
       "71                          0.958                                  0.705   \n",
       "86                          0.883                                  0.539   \n",
       "22                          1.054                                  0.744   \n",
       "121                         0.957                                  0.521   \n",
       "78                          0.888                                  0.819   \n",
       "\n",
       "     Explained by: Freedom to make life choices  Explained by: Generosity  \\\n",
       "71                                        0.656                     0.099   \n",
       "86                                        0.620                     0.468   \n",
       "22                                        0.661                     0.089   \n",
       "121                                       0.336                     0.073   \n",
       "78                                        0.523                     0.130   \n",
       "\n",
       "     Explained by: Perceptions of corruption  \n",
       "71                                     0.142  \n",
       "86                                     0.047  \n",
       "22                                     0.102  \n",
       "121                                    0.079  \n",
       "78                                     0.213  "
      ]
     },
     "execution_count": 4,
     "metadata": {},
     "output_type": "execute_result"
    }
   ],
   "source": [
    "df.sample(5)"
   ]
  },
  {
   "cell_type": "code",
   "execution_count": 5,
   "metadata": {
    "colab": {
     "base_uri": "https://localhost:8080/",
     "height": 268
    },
    "id": "dceeXWqv4CeX",
    "outputId": "ee1486aa-f78d-41ec-bc54-252f8426d391"
   },
   "outputs": [
    {
     "data": {
      "text/html": [
       "<div>\n",
       "<style scoped>\n",
       "    .dataframe tbody tr th:only-of-type {\n",
       "        vertical-align: middle;\n",
       "    }\n",
       "\n",
       "    .dataframe tbody tr th {\n",
       "        vertical-align: top;\n",
       "    }\n",
       "\n",
       "    .dataframe thead th {\n",
       "        text-align: right;\n",
       "    }\n",
       "</style>\n",
       "<table border=\"1\" class=\"dataframe\">\n",
       "  <thead>\n",
       "    <tr style=\"text-align: right;\">\n",
       "      <th></th>\n",
       "      <th>RANK</th>\n",
       "      <th>Country</th>\n",
       "      <th>Happiness score</th>\n",
       "      <th>Whisker-high</th>\n",
       "      <th>Whisker-low</th>\n",
       "      <th>Dystopia (1.83) + residual</th>\n",
       "      <th>Explained by: GDP per capita</th>\n",
       "      <th>Explained by: Social support</th>\n",
       "      <th>Explained by: Healthy life expectancy</th>\n",
       "      <th>Explained by: Freedom to make life choices</th>\n",
       "      <th>Explained by: Generosity</th>\n",
       "      <th>Explained by: Perceptions of corruption</th>\n",
       "    </tr>\n",
       "  </thead>\n",
       "  <tbody>\n",
       "    <tr>\n",
       "      <th>141</th>\n",
       "      <td>142</td>\n",
       "      <td>Botswana*</td>\n",
       "      <td>3.471</td>\n",
       "      <td>3.667</td>\n",
       "      <td>3.275</td>\n",
       "      <td>0.187</td>\n",
       "      <td>1.503</td>\n",
       "      <td>0.815</td>\n",
       "      <td>0.280</td>\n",
       "      <td>0.571</td>\n",
       "      <td>0.012</td>\n",
       "      <td>0.102</td>\n",
       "    </tr>\n",
       "    <tr>\n",
       "      <th>142</th>\n",
       "      <td>143</td>\n",
       "      <td>Rwanda*</td>\n",
       "      <td>3.268</td>\n",
       "      <td>3.462</td>\n",
       "      <td>3.074</td>\n",
       "      <td>0.536</td>\n",
       "      <td>0.785</td>\n",
       "      <td>0.133</td>\n",
       "      <td>0.462</td>\n",
       "      <td>0.621</td>\n",
       "      <td>0.187</td>\n",
       "      <td>0.544</td>\n",
       "    </tr>\n",
       "    <tr>\n",
       "      <th>143</th>\n",
       "      <td>144</td>\n",
       "      <td>Zimbabwe</td>\n",
       "      <td>2.995</td>\n",
       "      <td>3.110</td>\n",
       "      <td>2.880</td>\n",
       "      <td>0.548</td>\n",
       "      <td>0.947</td>\n",
       "      <td>0.690</td>\n",
       "      <td>0.270</td>\n",
       "      <td>0.329</td>\n",
       "      <td>0.106</td>\n",
       "      <td>0.105</td>\n",
       "    </tr>\n",
       "    <tr>\n",
       "      <th>144</th>\n",
       "      <td>145</td>\n",
       "      <td>Lebanon</td>\n",
       "      <td>2.955</td>\n",
       "      <td>3.049</td>\n",
       "      <td>2.862</td>\n",
       "      <td>0.216</td>\n",
       "      <td>1.392</td>\n",
       "      <td>0.498</td>\n",
       "      <td>0.631</td>\n",
       "      <td>0.103</td>\n",
       "      <td>0.082</td>\n",
       "      <td>0.034</td>\n",
       "    </tr>\n",
       "    <tr>\n",
       "      <th>145</th>\n",
       "      <td>146</td>\n",
       "      <td>Afghanistan</td>\n",
       "      <td>2.404</td>\n",
       "      <td>2.469</td>\n",
       "      <td>2.339</td>\n",
       "      <td>1.263</td>\n",
       "      <td>0.758</td>\n",
       "      <td>0.000</td>\n",
       "      <td>0.289</td>\n",
       "      <td>0.000</td>\n",
       "      <td>0.089</td>\n",
       "      <td>0.005</td>\n",
       "    </tr>\n",
       "  </tbody>\n",
       "</table>\n",
       "</div>"
      ],
      "text/plain": [
       "     RANK      Country  Happiness score  Whisker-high  Whisker-low  \\\n",
       "141   142    Botswana*            3.471         3.667        3.275   \n",
       "142   143      Rwanda*            3.268         3.462        3.074   \n",
       "143   144     Zimbabwe            2.995         3.110        2.880   \n",
       "144   145      Lebanon            2.955         3.049        2.862   \n",
       "145   146  Afghanistan            2.404         2.469        2.339   \n",
       "\n",
       "     Dystopia (1.83) + residual  Explained by: GDP per capita  \\\n",
       "141                       0.187                         1.503   \n",
       "142                       0.536                         0.785   \n",
       "143                       0.548                         0.947   \n",
       "144                       0.216                         1.392   \n",
       "145                       1.263                         0.758   \n",
       "\n",
       "     Explained by: Social support  Explained by: Healthy life expectancy  \\\n",
       "141                         0.815                                  0.280   \n",
       "142                         0.133                                  0.462   \n",
       "143                         0.690                                  0.270   \n",
       "144                         0.498                                  0.631   \n",
       "145                         0.000                                  0.289   \n",
       "\n",
       "     Explained by: Freedom to make life choices  Explained by: Generosity  \\\n",
       "141                                       0.571                     0.012   \n",
       "142                                       0.621                     0.187   \n",
       "143                                       0.329                     0.106   \n",
       "144                                       0.103                     0.082   \n",
       "145                                       0.000                     0.089   \n",
       "\n",
       "     Explained by: Perceptions of corruption  \n",
       "141                                    0.102  \n",
       "142                                    0.544  \n",
       "143                                    0.105  \n",
       "144                                    0.034  \n",
       "145                                    0.005  "
      ]
     },
     "execution_count": 5,
     "metadata": {},
     "output_type": "execute_result"
    }
   ],
   "source": [
    "df.tail()"
   ]
  },
  {
   "cell_type": "code",
   "execution_count": 6,
   "metadata": {
    "colab": {
     "base_uri": "https://localhost:8080/",
     "height": 362
    },
    "id": "R0Ad3a7M4IA1",
    "outputId": "47d85548-adc2-4d4e-9bc9-8337a41ff71a"
   },
   "outputs": [
    {
     "data": {
      "text/html": [
       "<div>\n",
       "<style scoped>\n",
       "    .dataframe tbody tr th:only-of-type {\n",
       "        vertical-align: middle;\n",
       "    }\n",
       "\n",
       "    .dataframe tbody tr th {\n",
       "        vertical-align: top;\n",
       "    }\n",
       "\n",
       "    .dataframe thead th {\n",
       "        text-align: right;\n",
       "    }\n",
       "</style>\n",
       "<table border=\"1\" class=\"dataframe\">\n",
       "  <thead>\n",
       "    <tr style=\"text-align: right;\">\n",
       "      <th></th>\n",
       "      <th>RANK</th>\n",
       "      <th>Happiness score</th>\n",
       "      <th>Whisker-high</th>\n",
       "      <th>Whisker-low</th>\n",
       "      <th>Dystopia (1.83) + residual</th>\n",
       "      <th>Explained by: GDP per capita</th>\n",
       "      <th>Explained by: Social support</th>\n",
       "      <th>Explained by: Healthy life expectancy</th>\n",
       "      <th>Explained by: Freedom to make life choices</th>\n",
       "      <th>Explained by: Generosity</th>\n",
       "      <th>Explained by: Perceptions of corruption</th>\n",
       "    </tr>\n",
       "  </thead>\n",
       "  <tbody>\n",
       "    <tr>\n",
       "      <th>count</th>\n",
       "      <td>146.000000</td>\n",
       "      <td>146.000000</td>\n",
       "      <td>146.000000</td>\n",
       "      <td>146.000000</td>\n",
       "      <td>146.000000</td>\n",
       "      <td>146.000000</td>\n",
       "      <td>146.000000</td>\n",
       "      <td>146.000000</td>\n",
       "      <td>146.000000</td>\n",
       "      <td>146.000000</td>\n",
       "      <td>146.000000</td>\n",
       "    </tr>\n",
       "    <tr>\n",
       "      <th>mean</th>\n",
       "      <td>73.500000</td>\n",
       "      <td>5.553575</td>\n",
       "      <td>5.673589</td>\n",
       "      <td>5.433568</td>\n",
       "      <td>1.831808</td>\n",
       "      <td>1.410445</td>\n",
       "      <td>0.905863</td>\n",
       "      <td>0.586171</td>\n",
       "      <td>0.517226</td>\n",
       "      <td>0.147377</td>\n",
       "      <td>0.154781</td>\n",
       "    </tr>\n",
       "    <tr>\n",
       "      <th>std</th>\n",
       "      <td>42.290661</td>\n",
       "      <td>1.086843</td>\n",
       "      <td>1.065621</td>\n",
       "      <td>1.109380</td>\n",
       "      <td>0.534994</td>\n",
       "      <td>0.421663</td>\n",
       "      <td>0.280122</td>\n",
       "      <td>0.176336</td>\n",
       "      <td>0.145859</td>\n",
       "      <td>0.082799</td>\n",
       "      <td>0.127514</td>\n",
       "    </tr>\n",
       "    <tr>\n",
       "      <th>min</th>\n",
       "      <td>1.000000</td>\n",
       "      <td>2.404000</td>\n",
       "      <td>2.469000</td>\n",
       "      <td>2.339000</td>\n",
       "      <td>0.187000</td>\n",
       "      <td>0.000000</td>\n",
       "      <td>0.000000</td>\n",
       "      <td>0.000000</td>\n",
       "      <td>0.000000</td>\n",
       "      <td>0.000000</td>\n",
       "      <td>0.000000</td>\n",
       "    </tr>\n",
       "    <tr>\n",
       "      <th>25%</th>\n",
       "      <td>37.250000</td>\n",
       "      <td>4.888750</td>\n",
       "      <td>5.006250</td>\n",
       "      <td>4.754750</td>\n",
       "      <td>1.555250</td>\n",
       "      <td>1.095500</td>\n",
       "      <td>0.732000</td>\n",
       "      <td>0.463250</td>\n",
       "      <td>0.440500</td>\n",
       "      <td>0.089000</td>\n",
       "      <td>0.068250</td>\n",
       "    </tr>\n",
       "    <tr>\n",
       "      <th>50%</th>\n",
       "      <td>73.500000</td>\n",
       "      <td>5.568500</td>\n",
       "      <td>5.680000</td>\n",
       "      <td>5.453000</td>\n",
       "      <td>1.894500</td>\n",
       "      <td>1.445500</td>\n",
       "      <td>0.957500</td>\n",
       "      <td>0.621500</td>\n",
       "      <td>0.543500</td>\n",
       "      <td>0.132500</td>\n",
       "      <td>0.119500</td>\n",
       "    </tr>\n",
       "    <tr>\n",
       "      <th>75%</th>\n",
       "      <td>109.750000</td>\n",
       "      <td>6.305000</td>\n",
       "      <td>6.448750</td>\n",
       "      <td>6.190000</td>\n",
       "      <td>2.153000</td>\n",
       "      <td>1.784750</td>\n",
       "      <td>1.114250</td>\n",
       "      <td>0.719750</td>\n",
       "      <td>0.626000</td>\n",
       "      <td>0.197750</td>\n",
       "      <td>0.198500</td>\n",
       "    </tr>\n",
       "    <tr>\n",
       "      <th>max</th>\n",
       "      <td>146.000000</td>\n",
       "      <td>7.821000</td>\n",
       "      <td>7.886000</td>\n",
       "      <td>7.756000</td>\n",
       "      <td>2.844000</td>\n",
       "      <td>2.209000</td>\n",
       "      <td>1.320000</td>\n",
       "      <td>0.942000</td>\n",
       "      <td>0.740000</td>\n",
       "      <td>0.468000</td>\n",
       "      <td>0.587000</td>\n",
       "    </tr>\n",
       "  </tbody>\n",
       "</table>\n",
       "</div>"
      ],
      "text/plain": [
       "             RANK  Happiness score  Whisker-high  Whisker-low  \\\n",
       "count  146.000000       146.000000    146.000000   146.000000   \n",
       "mean    73.500000         5.553575      5.673589     5.433568   \n",
       "std     42.290661         1.086843      1.065621     1.109380   \n",
       "min      1.000000         2.404000      2.469000     2.339000   \n",
       "25%     37.250000         4.888750      5.006250     4.754750   \n",
       "50%     73.500000         5.568500      5.680000     5.453000   \n",
       "75%    109.750000         6.305000      6.448750     6.190000   \n",
       "max    146.000000         7.821000      7.886000     7.756000   \n",
       "\n",
       "       Dystopia (1.83) + residual  Explained by: GDP per capita  \\\n",
       "count                  146.000000                    146.000000   \n",
       "mean                     1.831808                      1.410445   \n",
       "std                      0.534994                      0.421663   \n",
       "min                      0.187000                      0.000000   \n",
       "25%                      1.555250                      1.095500   \n",
       "50%                      1.894500                      1.445500   \n",
       "75%                      2.153000                      1.784750   \n",
       "max                      2.844000                      2.209000   \n",
       "\n",
       "       Explained by: Social support  Explained by: Healthy life expectancy  \\\n",
       "count                    146.000000                             146.000000   \n",
       "mean                       0.905863                               0.586171   \n",
       "std                        0.280122                               0.176336   \n",
       "min                        0.000000                               0.000000   \n",
       "25%                        0.732000                               0.463250   \n",
       "50%                        0.957500                               0.621500   \n",
       "75%                        1.114250                               0.719750   \n",
       "max                        1.320000                               0.942000   \n",
       "\n",
       "       Explained by: Freedom to make life choices  Explained by: Generosity  \\\n",
       "count                                  146.000000                146.000000   \n",
       "mean                                     0.517226                  0.147377   \n",
       "std                                      0.145859                  0.082799   \n",
       "min                                      0.000000                  0.000000   \n",
       "25%                                      0.440500                  0.089000   \n",
       "50%                                      0.543500                  0.132500   \n",
       "75%                                      0.626000                  0.197750   \n",
       "max                                      0.740000                  0.468000   \n",
       "\n",
       "       Explained by: Perceptions of corruption  \n",
       "count                               146.000000  \n",
       "mean                                  0.154781  \n",
       "std                                   0.127514  \n",
       "min                                   0.000000  \n",
       "25%                                   0.068250  \n",
       "50%                                   0.119500  \n",
       "75%                                   0.198500  \n",
       "max                                   0.587000  "
      ]
     },
     "execution_count": 6,
     "metadata": {},
     "output_type": "execute_result"
    }
   ],
   "source": [
    "df.describe()"
   ]
  },
  {
   "cell_type": "code",
   "execution_count": 7,
   "metadata": {
    "id": "vcT1re2nxXzF"
   },
   "outputs": [],
   "source": [
    "from sklearn.cluster import KMeans\n",
    "from sklearn.metrics import silhouette_score"
   ]
  },
  {
   "cell_type": "code",
   "execution_count": 8,
   "metadata": {
    "id": "DQ6XN6Lg3ThQ"
   },
   "outputs": [],
   "source": [
    "import matplotlib.pyplot as plt\n"
   ]
  },
  {
   "cell_type": "code",
   "execution_count": 9,
   "metadata": {
    "colab": {
     "base_uri": "https://localhost:8080/"
    },
    "id": "p1ELp4Aw3Xl9",
    "outputId": "32934ecd-1378-4e62-d4d9-6c5c515adf02"
   },
   "outputs": [
    {
     "name": "stdout",
     "output_type": "stream",
     "text": [
      "<class 'pandas.core.frame.DataFrame'>\n",
      "RangeIndex: 146 entries, 0 to 145\n",
      "Data columns (total 12 columns):\n",
      " #   Column                                      Non-Null Count  Dtype  \n",
      "---  ------                                      --------------  -----  \n",
      " 0   RANK                                        146 non-null    int64  \n",
      " 1   Country                                     146 non-null    object \n",
      " 2   Happiness score                             146 non-null    float64\n",
      " 3   Whisker-high                                146 non-null    float64\n",
      " 4   Whisker-low                                 146 non-null    float64\n",
      " 5   Dystopia (1.83) + residual                  146 non-null    float64\n",
      " 6   Explained by: GDP per capita                146 non-null    float64\n",
      " 7   Explained by: Social support                146 non-null    float64\n",
      " 8   Explained by: Healthy life expectancy       146 non-null    float64\n",
      " 9   Explained by: Freedom to make life choices  146 non-null    float64\n",
      " 10  Explained by: Generosity                    146 non-null    float64\n",
      " 11  Explained by: Perceptions of corruption     146 non-null    float64\n",
      "dtypes: float64(10), int64(1), object(1)\n",
      "memory usage: 13.8+ KB\n"
     ]
    }
   ],
   "source": [
    "df.info()"
   ]
  },
  {
   "cell_type": "code",
   "execution_count": 10,
   "metadata": {
    "colab": {
     "base_uri": "https://localhost:8080/"
    },
    "id": "NZeyX97r3sda",
    "outputId": "6aa95d0d-06e0-401a-d23e-e2132f721493"
   },
   "outputs": [
    {
     "data": {
      "text/plain": [
       "(146, 12)"
      ]
     },
     "execution_count": 10,
     "metadata": {},
     "output_type": "execute_result"
    }
   ],
   "source": [
    "df.shape"
   ]
  },
  {
   "cell_type": "code",
   "execution_count": 11,
   "metadata": {
    "colab": {
     "base_uri": "https://localhost:8080/"
    },
    "id": "563SVqqp3tyS",
    "outputId": "6d7223cc-a0da-42a7-fe3c-388acf85f631"
   },
   "outputs": [
    {
     "data": {
      "text/plain": [
       "RANK                                          0\n",
       "Country                                       0\n",
       "Happiness score                               0\n",
       "Whisker-high                                  0\n",
       "Whisker-low                                   0\n",
       "Dystopia (1.83) + residual                    0\n",
       "Explained by: GDP per capita                  0\n",
       "Explained by: Social support                  0\n",
       "Explained by: Healthy life expectancy         0\n",
       "Explained by: Freedom to make life choices    0\n",
       "Explained by: Generosity                      0\n",
       "Explained by: Perceptions of corruption       0\n",
       "dtype: int64"
      ]
     },
     "execution_count": 11,
     "metadata": {},
     "output_type": "execute_result"
    }
   ],
   "source": [
    "df.isnull().sum()"
   ]
  },
  {
   "cell_type": "code",
   "execution_count": 12,
   "metadata": {
    "colab": {
     "base_uri": "https://localhost:8080/",
     "height": 542
    },
    "id": "vL1vk5ln3v73",
    "outputId": "1b9d2013-287e-4bea-b6c7-78c6ce3f3065"
   },
   "outputs": [
    {
     "data": {
      "text/html": [
       "<div>\n",
       "<style scoped>\n",
       "    .dataframe tbody tr th:only-of-type {\n",
       "        vertical-align: middle;\n",
       "    }\n",
       "\n",
       "    .dataframe tbody tr th {\n",
       "        vertical-align: top;\n",
       "    }\n",
       "\n",
       "    .dataframe thead th {\n",
       "        text-align: right;\n",
       "    }\n",
       "</style>\n",
       "<table border=\"1\" class=\"dataframe\">\n",
       "  <thead>\n",
       "    <tr style=\"text-align: right;\">\n",
       "      <th></th>\n",
       "      <th>RANK</th>\n",
       "      <th>Happiness score</th>\n",
       "      <th>Whisker-high</th>\n",
       "      <th>Whisker-low</th>\n",
       "      <th>Dystopia (1.83) + residual</th>\n",
       "      <th>Explained by: GDP per capita</th>\n",
       "      <th>Explained by: Social support</th>\n",
       "      <th>Explained by: Healthy life expectancy</th>\n",
       "      <th>Explained by: Freedom to make life choices</th>\n",
       "      <th>Explained by: Generosity</th>\n",
       "      <th>Explained by: Perceptions of corruption</th>\n",
       "    </tr>\n",
       "  </thead>\n",
       "  <tbody>\n",
       "    <tr>\n",
       "      <th>RANK</th>\n",
       "      <td>1.000000</td>\n",
       "      <td>-0.980856</td>\n",
       "      <td>-0.978345</td>\n",
       "      <td>-0.982031</td>\n",
       "      <td>-0.444633</td>\n",
       "      <td>-0.792137</td>\n",
       "      <td>-0.773773</td>\n",
       "      <td>-0.750945</td>\n",
       "      <td>-0.623040</td>\n",
       "      <td>-0.032831</td>\n",
       "      <td>-0.403199</td>\n",
       "    </tr>\n",
       "    <tr>\n",
       "      <th>Happiness score</th>\n",
       "      <td>-0.980856</td>\n",
       "      <td>1.000000</td>\n",
       "      <td>0.999333</td>\n",
       "      <td>0.999383</td>\n",
       "      <td>0.498990</td>\n",
       "      <td>0.763677</td>\n",
       "      <td>0.777889</td>\n",
       "      <td>0.740260</td>\n",
       "      <td>0.624822</td>\n",
       "      <td>0.063785</td>\n",
       "      <td>0.416216</td>\n",
       "    </tr>\n",
       "    <tr>\n",
       "      <th>Whisker-high</th>\n",
       "      <td>-0.978345</td>\n",
       "      <td>0.999333</td>\n",
       "      <td>1.000000</td>\n",
       "      <td>0.997434</td>\n",
       "      <td>0.514099</td>\n",
       "      <td>0.752104</td>\n",
       "      <td>0.773375</td>\n",
       "      <td>0.727611</td>\n",
       "      <td>0.622934</td>\n",
       "      <td>0.065728</td>\n",
       "      <td>0.413718</td>\n",
       "    </tr>\n",
       "    <tr>\n",
       "      <th>Whisker-low</th>\n",
       "      <td>-0.982031</td>\n",
       "      <td>0.999383</td>\n",
       "      <td>0.997434</td>\n",
       "      <td>1.000000</td>\n",
       "      <td>0.483762</td>\n",
       "      <td>0.773844</td>\n",
       "      <td>0.781302</td>\n",
       "      <td>0.751530</td>\n",
       "      <td>0.625926</td>\n",
       "      <td>0.061820</td>\n",
       "      <td>0.418162</td>\n",
       "    </tr>\n",
       "    <tr>\n",
       "      <th>Dystopia (1.83) + residual</th>\n",
       "      <td>-0.444633</td>\n",
       "      <td>0.498990</td>\n",
       "      <td>0.514099</td>\n",
       "      <td>0.483762</td>\n",
       "      <td>1.000000</td>\n",
       "      <td>-0.073423</td>\n",
       "      <td>0.083606</td>\n",
       "      <td>-0.006886</td>\n",
       "      <td>0.117695</td>\n",
       "      <td>0.066915</td>\n",
       "      <td>-0.051075</td>\n",
       "    </tr>\n",
       "    <tr>\n",
       "      <th>Explained by: GDP per capita</th>\n",
       "      <td>-0.792137</td>\n",
       "      <td>0.763677</td>\n",
       "      <td>0.752104</td>\n",
       "      <td>0.773844</td>\n",
       "      <td>-0.073423</td>\n",
       "      <td>1.000000</td>\n",
       "      <td>0.722421</td>\n",
       "      <td>0.815386</td>\n",
       "      <td>0.458591</td>\n",
       "      <td>-0.164472</td>\n",
       "      <td>0.377589</td>\n",
       "    </tr>\n",
       "    <tr>\n",
       "      <th>Explained by: Social support</th>\n",
       "      <td>-0.773773</td>\n",
       "      <td>0.777889</td>\n",
       "      <td>0.773375</td>\n",
       "      <td>0.781302</td>\n",
       "      <td>0.083606</td>\n",
       "      <td>0.722421</td>\n",
       "      <td>1.000000</td>\n",
       "      <td>0.666760</td>\n",
       "      <td>0.480466</td>\n",
       "      <td>-0.002339</td>\n",
       "      <td>0.223352</td>\n",
       "    </tr>\n",
       "    <tr>\n",
       "      <th>Explained by: Healthy life expectancy</th>\n",
       "      <td>-0.750945</td>\n",
       "      <td>0.740260</td>\n",
       "      <td>0.727611</td>\n",
       "      <td>0.751530</td>\n",
       "      <td>-0.006886</td>\n",
       "      <td>0.815386</td>\n",
       "      <td>0.666760</td>\n",
       "      <td>1.000000</td>\n",
       "      <td>0.433166</td>\n",
       "      <td>-0.098133</td>\n",
       "      <td>0.362626</td>\n",
       "    </tr>\n",
       "    <tr>\n",
       "      <th>Explained by: Freedom to make life choices</th>\n",
       "      <td>-0.623040</td>\n",
       "      <td>0.624822</td>\n",
       "      <td>0.622934</td>\n",
       "      <td>0.625926</td>\n",
       "      <td>0.117695</td>\n",
       "      <td>0.458591</td>\n",
       "      <td>0.480466</td>\n",
       "      <td>0.433166</td>\n",
       "      <td>1.000000</td>\n",
       "      <td>0.176800</td>\n",
       "      <td>0.402474</td>\n",
       "    </tr>\n",
       "    <tr>\n",
       "      <th>Explained by: Generosity</th>\n",
       "      <td>-0.032831</td>\n",
       "      <td>0.063785</td>\n",
       "      <td>0.065728</td>\n",
       "      <td>0.061820</td>\n",
       "      <td>0.066915</td>\n",
       "      <td>-0.164472</td>\n",
       "      <td>-0.002339</td>\n",
       "      <td>-0.098133</td>\n",
       "      <td>0.176800</td>\n",
       "      <td>1.000000</td>\n",
       "      <td>0.096107</td>\n",
       "    </tr>\n",
       "    <tr>\n",
       "      <th>Explained by: Perceptions of corruption</th>\n",
       "      <td>-0.403199</td>\n",
       "      <td>0.416216</td>\n",
       "      <td>0.413718</td>\n",
       "      <td>0.418162</td>\n",
       "      <td>-0.051075</td>\n",
       "      <td>0.377589</td>\n",
       "      <td>0.223352</td>\n",
       "      <td>0.362626</td>\n",
       "      <td>0.402474</td>\n",
       "      <td>0.096107</td>\n",
       "      <td>1.000000</td>\n",
       "    </tr>\n",
       "  </tbody>\n",
       "</table>\n",
       "</div>"
      ],
      "text/plain": [
       "                                                RANK  Happiness score  \\\n",
       "RANK                                        1.000000        -0.980856   \n",
       "Happiness score                            -0.980856         1.000000   \n",
       "Whisker-high                               -0.978345         0.999333   \n",
       "Whisker-low                                -0.982031         0.999383   \n",
       "Dystopia (1.83) + residual                 -0.444633         0.498990   \n",
       "Explained by: GDP per capita               -0.792137         0.763677   \n",
       "Explained by: Social support               -0.773773         0.777889   \n",
       "Explained by: Healthy life expectancy      -0.750945         0.740260   \n",
       "Explained by: Freedom to make life choices -0.623040         0.624822   \n",
       "Explained by: Generosity                   -0.032831         0.063785   \n",
       "Explained by: Perceptions of corruption    -0.403199         0.416216   \n",
       "\n",
       "                                            Whisker-high  Whisker-low  \\\n",
       "RANK                                           -0.978345    -0.982031   \n",
       "Happiness score                                 0.999333     0.999383   \n",
       "Whisker-high                                    1.000000     0.997434   \n",
       "Whisker-low                                     0.997434     1.000000   \n",
       "Dystopia (1.83) + residual                      0.514099     0.483762   \n",
       "Explained by: GDP per capita                    0.752104     0.773844   \n",
       "Explained by: Social support                    0.773375     0.781302   \n",
       "Explained by: Healthy life expectancy           0.727611     0.751530   \n",
       "Explained by: Freedom to make life choices      0.622934     0.625926   \n",
       "Explained by: Generosity                        0.065728     0.061820   \n",
       "Explained by: Perceptions of corruption         0.413718     0.418162   \n",
       "\n",
       "                                            Dystopia (1.83) + residual  \\\n",
       "RANK                                                         -0.444633   \n",
       "Happiness score                                               0.498990   \n",
       "Whisker-high                                                  0.514099   \n",
       "Whisker-low                                                   0.483762   \n",
       "Dystopia (1.83) + residual                                    1.000000   \n",
       "Explained by: GDP per capita                                 -0.073423   \n",
       "Explained by: Social support                                  0.083606   \n",
       "Explained by: Healthy life expectancy                        -0.006886   \n",
       "Explained by: Freedom to make life choices                    0.117695   \n",
       "Explained by: Generosity                                      0.066915   \n",
       "Explained by: Perceptions of corruption                      -0.051075   \n",
       "\n",
       "                                            Explained by: GDP per capita  \\\n",
       "RANK                                                           -0.792137   \n",
       "Happiness score                                                 0.763677   \n",
       "Whisker-high                                                    0.752104   \n",
       "Whisker-low                                                     0.773844   \n",
       "Dystopia (1.83) + residual                                     -0.073423   \n",
       "Explained by: GDP per capita                                    1.000000   \n",
       "Explained by: Social support                                    0.722421   \n",
       "Explained by: Healthy life expectancy                           0.815386   \n",
       "Explained by: Freedom to make life choices                      0.458591   \n",
       "Explained by: Generosity                                       -0.164472   \n",
       "Explained by: Perceptions of corruption                         0.377589   \n",
       "\n",
       "                                            Explained by: Social support  \\\n",
       "RANK                                                           -0.773773   \n",
       "Happiness score                                                 0.777889   \n",
       "Whisker-high                                                    0.773375   \n",
       "Whisker-low                                                     0.781302   \n",
       "Dystopia (1.83) + residual                                      0.083606   \n",
       "Explained by: GDP per capita                                    0.722421   \n",
       "Explained by: Social support                                    1.000000   \n",
       "Explained by: Healthy life expectancy                           0.666760   \n",
       "Explained by: Freedom to make life choices                      0.480466   \n",
       "Explained by: Generosity                                       -0.002339   \n",
       "Explained by: Perceptions of corruption                         0.223352   \n",
       "\n",
       "                                            Explained by: Healthy life expectancy  \\\n",
       "RANK                                                                    -0.750945   \n",
       "Happiness score                                                          0.740260   \n",
       "Whisker-high                                                             0.727611   \n",
       "Whisker-low                                                              0.751530   \n",
       "Dystopia (1.83) + residual                                              -0.006886   \n",
       "Explained by: GDP per capita                                             0.815386   \n",
       "Explained by: Social support                                             0.666760   \n",
       "Explained by: Healthy life expectancy                                    1.000000   \n",
       "Explained by: Freedom to make life choices                               0.433166   \n",
       "Explained by: Generosity                                                -0.098133   \n",
       "Explained by: Perceptions of corruption                                  0.362626   \n",
       "\n",
       "                                            Explained by: Freedom to make life choices  \\\n",
       "RANK                                                                         -0.623040   \n",
       "Happiness score                                                               0.624822   \n",
       "Whisker-high                                                                  0.622934   \n",
       "Whisker-low                                                                   0.625926   \n",
       "Dystopia (1.83) + residual                                                    0.117695   \n",
       "Explained by: GDP per capita                                                  0.458591   \n",
       "Explained by: Social support                                                  0.480466   \n",
       "Explained by: Healthy life expectancy                                         0.433166   \n",
       "Explained by: Freedom to make life choices                                    1.000000   \n",
       "Explained by: Generosity                                                      0.176800   \n",
       "Explained by: Perceptions of corruption                                       0.402474   \n",
       "\n",
       "                                            Explained by: Generosity  \\\n",
       "RANK                                                       -0.032831   \n",
       "Happiness score                                             0.063785   \n",
       "Whisker-high                                                0.065728   \n",
       "Whisker-low                                                 0.061820   \n",
       "Dystopia (1.83) + residual                                  0.066915   \n",
       "Explained by: GDP per capita                               -0.164472   \n",
       "Explained by: Social support                               -0.002339   \n",
       "Explained by: Healthy life expectancy                      -0.098133   \n",
       "Explained by: Freedom to make life choices                  0.176800   \n",
       "Explained by: Generosity                                    1.000000   \n",
       "Explained by: Perceptions of corruption                     0.096107   \n",
       "\n",
       "                                            Explained by: Perceptions of corruption  \n",
       "RANK                                                                      -0.403199  \n",
       "Happiness score                                                            0.416216  \n",
       "Whisker-high                                                               0.413718  \n",
       "Whisker-low                                                                0.418162  \n",
       "Dystopia (1.83) + residual                                                -0.051075  \n",
       "Explained by: GDP per capita                                               0.377589  \n",
       "Explained by: Social support                                               0.223352  \n",
       "Explained by: Healthy life expectancy                                      0.362626  \n",
       "Explained by: Freedom to make life choices                                 0.402474  \n",
       "Explained by: Generosity                                                   0.096107  \n",
       "Explained by: Perceptions of corruption                                    1.000000  "
      ]
     },
     "execution_count": 12,
     "metadata": {},
     "output_type": "execute_result"
    }
   ],
   "source": [
    "df.corr()"
   ]
  },
  {
   "cell_type": "code",
   "execution_count": 13,
   "metadata": {
    "id": "bygY-_6C39dy"
   },
   "outputs": [],
   "source": [
    "import seaborn as sns"
   ]
  },
  {
   "cell_type": "code",
   "execution_count": 14,
   "metadata": {
    "colab": {
     "base_uri": "https://localhost:8080/",
     "height": 1000
    },
    "id": "3dlkkKQI31zZ",
    "outputId": "c591c792-dfd5-40bb-f43d-df4de656b7d6"
   },
   "outputs": [
    {
     "data": {
      "image/png": "[encoded data removed]",
      "text/plain": [
       "<Figure size 1080x1080 with 2 Axes>"
      ]
     },
     "metadata": {
      "needs_background": "light"
     },
     "output_type": "display_data"
    }
   ],
   "source": [
    "plt.figure(figsize=(15,15))\n",
    "sns.heatmap(df.corr(),annot=True);"
   ]
  },
  {
   "cell_type": "code",
   "execution_count": 15,
   "metadata": {
    "colab": {
     "base_uri": "https://localhost:8080/",
     "height": 1000
    },
    "id": "KFjjy8ZG34YP",
    "outputId": "abadf6cf-00f2-4537-f690-acbfb6d7c8e0"
   },
   "outputs": [
    {
     "data": {
      "image/png": "[encoded data removed]",
      "text/plain": [
       "<Figure size 1440x1080 with 1 Axes>"
      ]
     },
     "metadata": {
      "needs_background": "light"
     },
     "output_type": "display_data"
    }
   ],
   "source": [
    "plt.figure(figsize=(20,15))\n",
    "sns.boxplot(data=df.iloc[:,1:])\n",
    "plt.xticks(rotation=90);\n",
    "#RANK dışında tüm sayısal sütunları kutu grafikleri olarak göster"
   ]
  },
  {
   "cell_type": "code",
   "execution_count": 16,
   "metadata": {
    "colab": {
     "base_uri": "https://localhost:8080/",
     "height": 268
    },
    "id": "1ipacOSM4aWs",
    "outputId": "c03c37af-5e90-4ef7-d627-bc77acba56a1"
   },
   "outputs": [
    {
     "data": {
      "text/html": [
       "<div>\n",
       "<style scoped>\n",
       "    .dataframe tbody tr th:only-of-type {\n",
       "        vertical-align: middle;\n",
       "    }\n",
       "\n",
       "    .dataframe tbody tr th {\n",
       "        vertical-align: top;\n",
       "    }\n",
       "\n",
       "    .dataframe thead th {\n",
       "        text-align: right;\n",
       "    }\n",
       "</style>\n",
       "<table border=\"1\" class=\"dataframe\">\n",
       "  <thead>\n",
       "    <tr style=\"text-align: right;\">\n",
       "      <th></th>\n",
       "      <th>Happiness score</th>\n",
       "      <th>Whisker-high</th>\n",
       "      <th>Whisker-low</th>\n",
       "      <th>Dystopia (1.83) + residual</th>\n",
       "      <th>Explained by: GDP per capita</th>\n",
       "      <th>Explained by: Social support</th>\n",
       "      <th>Explained by: Healthy life expectancy</th>\n",
       "      <th>Explained by: Freedom to make life choices</th>\n",
       "      <th>Explained by: Generosity</th>\n",
       "      <th>Explained by: Perceptions of corruption</th>\n",
       "    </tr>\n",
       "  </thead>\n",
       "  <tbody>\n",
       "    <tr>\n",
       "      <th>0</th>\n",
       "      <td>7.821</td>\n",
       "      <td>7.886</td>\n",
       "      <td>7.756</td>\n",
       "      <td>2.518</td>\n",
       "      <td>1.892</td>\n",
       "      <td>1.258</td>\n",
       "      <td>0.775</td>\n",
       "      <td>0.736</td>\n",
       "      <td>0.109</td>\n",
       "      <td>0.534</td>\n",
       "    </tr>\n",
       "    <tr>\n",
       "      <th>1</th>\n",
       "      <td>7.636</td>\n",
       "      <td>7.710</td>\n",
       "      <td>7.563</td>\n",
       "      <td>2.226</td>\n",
       "      <td>1.953</td>\n",
       "      <td>1.243</td>\n",
       "      <td>0.777</td>\n",
       "      <td>0.719</td>\n",
       "      <td>0.188</td>\n",
       "      <td>0.532</td>\n",
       "    </tr>\n",
       "    <tr>\n",
       "      <th>2</th>\n",
       "      <td>7.557</td>\n",
       "      <td>7.651</td>\n",
       "      <td>7.464</td>\n",
       "      <td>2.320</td>\n",
       "      <td>1.936</td>\n",
       "      <td>1.320</td>\n",
       "      <td>0.803</td>\n",
       "      <td>0.718</td>\n",
       "      <td>0.270</td>\n",
       "      <td>0.191</td>\n",
       "    </tr>\n",
       "    <tr>\n",
       "      <th>3</th>\n",
       "      <td>7.512</td>\n",
       "      <td>7.586</td>\n",
       "      <td>7.437</td>\n",
       "      <td>2.153</td>\n",
       "      <td>2.026</td>\n",
       "      <td>1.226</td>\n",
       "      <td>0.822</td>\n",
       "      <td>0.677</td>\n",
       "      <td>0.147</td>\n",
       "      <td>0.461</td>\n",
       "    </tr>\n",
       "    <tr>\n",
       "      <th>4</th>\n",
       "      <td>7.415</td>\n",
       "      <td>7.471</td>\n",
       "      <td>7.359</td>\n",
       "      <td>2.137</td>\n",
       "      <td>1.945</td>\n",
       "      <td>1.206</td>\n",
       "      <td>0.787</td>\n",
       "      <td>0.651</td>\n",
       "      <td>0.271</td>\n",
       "      <td>0.419</td>\n",
       "    </tr>\n",
       "  </tbody>\n",
       "</table>\n",
       "</div>"
      ],
      "text/plain": [
       "   Happiness score  Whisker-high  Whisker-low  Dystopia (1.83) + residual  \\\n",
       "0            7.821         7.886        7.756                       2.518   \n",
       "1            7.636         7.710        7.563                       2.226   \n",
       "2            7.557         7.651        7.464                       2.320   \n",
       "3            7.512         7.586        7.437                       2.153   \n",
       "4            7.415         7.471        7.359                       2.137   \n",
       "\n",
       "   Explained by: GDP per capita  Explained by: Social support  \\\n",
       "0                         1.892                         1.258   \n",
       "1                         1.953                         1.243   \n",
       "2                         1.936                         1.320   \n",
       "3                         2.026                         1.226   \n",
       "4                         1.945                         1.206   \n",
       "\n",
       "   Explained by: Healthy life expectancy  \\\n",
       "0                                  0.775   \n",
       "1                                  0.777   \n",
       "2                                  0.803   \n",
       "3                                  0.822   \n",
       "4                                  0.787   \n",
       "\n",
       "   Explained by: Freedom to make life choices  Explained by: Generosity  \\\n",
       "0                                       0.736                     0.109   \n",
       "1                                       0.719                     0.188   \n",
       "2                                       0.718                     0.270   \n",
       "3                                       0.677                     0.147   \n",
       "4                                       0.651                     0.271   \n",
       "\n",
       "   Explained by: Perceptions of corruption  \n",
       "0                                    0.534  \n",
       "1                                    0.532  \n",
       "2                                    0.191  \n",
       "3                                    0.461  \n",
       "4                                    0.419  "
      ]
     },
     "execution_count": 16,
     "metadata": {},
     "output_type": "execute_result"
    }
   ],
   "source": [
    "x=df.iloc[:, 2:]\n",
    "x.head()"
   ]
  },
  {
   "cell_type": "code",
   "execution_count": 17,
   "metadata": {
    "id": "to6sccQgPNpE"
   },
   "outputs": [],
   "source": [
    "import numpy as np\n"
   ]
  },
  {
   "cell_type": "code",
   "execution_count": 18,
   "metadata": {
    "colab": {
     "base_uri": "https://localhost:8080/"
    },
    "id": "xsSe7UnjOuzG",
    "outputId": "e5a9b31d-43cf-4af8-ca01-c90088c0b1b3"
   },
   "outputs": [
    {
     "name": "stdout",
     "output_type": "stream",
     "text": [
      "Number of cluster 2,silhouette0.4952130074484463\n",
      "Number of cluster 3,silhouette0.40556156081057965\n",
      "Number of cluster 4,silhouette0.4035982419546649\n",
      "Number of cluster 5,silhouette0.3924473077836633\n",
      "Number of cluster 6,silhouette0.3908423463326643\n",
      "Number of cluster 7,silhouette0.35532653771698713\n",
      "Number of cluster 8,silhouette0.33838973217431373\n",
      "Number of cluster 9,silhouette0.3407750274741155\n"
     ]
    }
   ],
   "source": [
    "allscore=[]\n",
    "allclusters=[]\n",
    "sum_of_squared_distances=[]\n",
    "def clust (clusters): \n",
    "    for no_of_cluster in np.arange(1,clusters):\n",
    "        no_of_cluster+=1\n",
    "        model=KMeans(n_clusters = no_of_cluster)\n",
    "        model=model.fit(x)\n",
    "        pred=model.fit_predict(x)\n",
    "        sum_of_squared_distances.append(model.inertia_)\n",
    "        score = silhouette_score(x,pred)\n",
    "        print(\"Number of cluster {},silhouette{}\".format(no_of_cluster,score))\n",
    "        allscore.append(score)\n",
    "        allclusters.append(no_of_cluster)\n",
    "clust(9)"
   ]
  },
  {
   "cell_type": "code",
   "execution_count": 19,
   "metadata": {
    "id": "qBPRMhW0b4Tn"
   },
   "outputs": [],
   "source": [
    "def clust(clusters):\n",
    "    for no_of_cluster in np.arange(1,clusters):\n",
    "        no_of_cluster+=1\n",
    "        model=KMeans(n_clusters=no_of_cluster)\n",
    "        model=model.fit(x)\n",
    "        pred=model.predict(x)\n",
    "        score=silhouette_score(x,pred)\n",
    "        print (\"Number of cluster{}, silhoette{}\".format(no_of_cluster,score))"
   ]
  },
  {
   "cell_type": "code",
   "execution_count": 20,
   "metadata": {
    "id": "ckjWxEviPEHU"
   },
   "outputs": [],
   "source": [
    "from yellowbrick.cluster import KElbowVisualizer"
   ]
  },
  {
   "cell_type": "code",
   "execution_count": 21,
   "metadata": {
    "colab": {
     "base_uri": "https://localhost:8080/",
     "height": 393
    },
    "id": "kWBoEuuBPXCk",
    "outputId": "3db88faf-3010-436b-f983-d21216f2b481"
   },
   "outputs": [
    {
     "data": {
      "image/png": "[encoded data removed]",
      "text/plain": [
       "<Figure size 576x396 with 2 Axes>"
      ]
     },
     "metadata": {},
     "output_type": "display_data"
    },
    {
     "data": {
      "text/plain": [
       "<AxesSubplot:title={'center':'Distortion Score Elbow for KMeans Clustering'}, xlabel='k', ylabel='distortion score'>"
      ]
     },
     "execution_count": 21,
     "metadata": {},
     "output_type": "execute_result"
    }
   ],
   "source": [
    "kmeans = KMeans()\n",
    "visu = KElbowVisualizer(kmeans, k = (2,10))\n",
    "visu.fit(x)\n",
    "visu.poof()"
   ]
  },
  {
   "cell_type": "code",
   "execution_count": 22,
   "metadata": {
    "id": "u5O_LtscPYjp"
   },
   "outputs": [],
   "source": [
    "model=KMeans(n_clusters=4)"
   ]
  },
  {
   "cell_type": "code",
   "execution_count": 23,
   "metadata": {
    "id": "FLvVMMH1Pfz4"
   },
   "outputs": [],
   "source": [
    "model=model.fit(x)"
   ]
  },
  {
   "cell_type": "code",
   "execution_count": 24,
   "metadata": {
    "id": "YFrcEhcvPhHd"
   },
   "outputs": [],
   "source": [
    "pred=model.predict(x)"
   ]
  },
  {
   "cell_type": "code",
   "execution_count": 25,
   "metadata": {
    "colab": {
     "base_uri": "https://localhost:8080/"
    },
    "id": "CAY7BpIxPid5",
    "outputId": "474b2d90-f137-4834-91db-3764ded650b6"
   },
   "outputs": [
    {
     "data": {
      "text/plain": [
       "array([1, 1, 1, 1, 1, 1, 1, 1, 1, 1, 1, 1, 1, 1, 1, 1, 1, 1, 1, 1, 1, 1,\n",
       "       3, 3, 3, 3, 3, 3, 3, 3, 3, 3, 3, 3, 3, 3, 3, 3, 3, 3, 3, 3, 3, 3,\n",
       "       3, 3, 3, 3, 3, 3, 3, 3, 3, 3, 3, 3, 3, 3, 3, 3, 3, 3, 3, 3, 3, 3,\n",
       "       3, 3, 3, 3, 3, 3, 3, 3, 3, 3, 3, 3, 3, 3, 3, 0, 0, 0, 0, 0, 0, 0,\n",
       "       0, 0, 0, 0, 0, 0, 0, 0, 0, 0, 0, 0, 0, 0, 0, 0, 0, 0, 0, 0, 0, 0,\n",
       "       0, 0, 0, 0, 0, 0, 0, 0, 0, 0, 0, 0, 0, 0, 0, 2, 2, 0, 2, 0, 2, 2,\n",
       "       2, 2, 2, 2, 2, 2, 2, 2, 2, 2, 2, 2, 2, 2])"
      ]
     },
     "execution_count": 25,
     "metadata": {},
     "output_type": "execute_result"
    }
   ],
   "source": [
    "pred"
   ]
  },
  {
   "cell_type": "code",
   "execution_count": 26,
   "metadata": {
    "id": "LzV1BtvfPjpI"
   },
   "outputs": [],
   "source": [
    "x['cluster']=pred"
   ]
  },
  {
   "cell_type": "code",
   "execution_count": 27,
   "metadata": {
    "colab": {
     "base_uri": "https://localhost:8080/"
    },
    "id": "ZXLzaLt4PlOo",
    "outputId": "599204a9-1aae-47e3-a3ab-daa53a264aca"
   },
   "outputs": [
    {
     "data": {
      "text/plain": [
       "0.6395481667950216"
      ]
     },
     "execution_count": 27,
     "metadata": {},
     "output_type": "execute_result"
    }
   ],
   "source": [
    "silhouette_score(x,pred)"
   ]
  },
  {
   "cell_type": "code",
   "execution_count": 28,
   "metadata": {
    "colab": {
     "base_uri": "https://localhost:8080/"
    },
    "id": "YZL_qceIHMko",
    "outputId": "1e58be97-26b3-4c22-ffa0-8ffdc832ee33"
   },
   "outputs": [
    {
     "name": "stdout",
     "output_type": "stream",
     "text": [
      "Silhouette Score:  0.5854010392590298\n"
     ]
    }
   ],
   "source": [
    "# Use 3 clusters, than fit and predict model\n",
    "cluster_labels = KMeans(n_clusters=3).fit_predict(x) \n",
    "df['cluster'] = cluster_labels # Add the cluster labels to the DataFrame\n",
    "print(\"Silhouette Score: \", silhouette_score(x,cluster_labels)) # Print the Silhouette Score"
   ]
  },
  {
   "cell_type": "code",
   "execution_count": 29,
   "metadata": {
    "colab": {
     "base_uri": "https://localhost:8080/"
    },
    "id": "pddr8c0wbsqg",
    "outputId": "cc80b5fe-76b9-41cb-8949-d3060ccbdfd9"
   },
   "outputs": [
    {
     "data": {
      "text/plain": [
       "array([1, 1, 1, 1, 1, 1, 1, 1, 1, 1, 1, 1, 1, 1, 1, 1, 1, 1, 1, 1, 1, 1,\n",
       "       3, 3, 3, 3, 3, 3, 3, 3, 3, 3, 3, 3, 3, 3, 3, 3, 3, 3, 3, 3, 3, 3,\n",
       "       3, 3, 3, 3, 3, 3, 3, 3, 3, 3, 3, 3, 3, 3, 3, 3, 3, 3, 3, 3, 3, 3,\n",
       "       3, 3, 3, 3, 3, 3, 3, 3, 3, 3, 3, 3, 3, 3, 3, 0, 0, 0, 0, 0, 0, 0,\n",
       "       0, 0, 0, 0, 0, 0, 0, 0, 0, 0, 0, 0, 0, 0, 0, 0, 0, 0, 0, 0, 0, 0,\n",
       "       0, 0, 0, 0, 0, 0, 0, 0, 0, 0, 0, 0, 0, 0, 0, 2, 2, 0, 2, 0, 2, 2,\n",
       "       2, 2, 2, 2, 2, 2, 2, 2, 2, 2, 2, 2, 2, 2])"
      ]
     },
     "execution_count": 29,
     "metadata": {},
     "output_type": "execute_result"
    }
   ],
   "source": [
    "clust=x.assign(Cluster=model.labels_)\n",
    "model.cluster_centers_.astype('int')\n",
    "model.labels_"
   ]
  },
  {
   "cell_type": "code",
   "execution_count": 30,
   "metadata": {
    "colab": {
     "base_uri": "https://localhost:8080/",
     "height": 392
    },
    "id": "3Oqa_dcmR3Tj",
    "outputId": "5f1fcf6c-be37-45f4-883a-d770e6aa5f80"
   },
   "outputs": [
    {
     "data": {
      "image/png": "[encoded data removed]",
      "text/plain": [
       "<Figure size 720x432 with 2 Axes>"
      ]
     },
     "metadata": {},
     "output_type": "display_data"
    }
   ],
   "source": [
    "plt.figure(figsize=(10,6))\n",
    "plt.scatter(x['Happiness score'],x['Explained by: Healthy life expectancy'],c=pred,cmap='RdYlGn')\n",
    "plt.xlabel(\"Happiness score\")\n",
    "plt.ylabel(\"Explained by: Healthy life expectancy\")\n",
    "plt.colorbar()\n",
    "plt.grid()#arkadaki kareleri oluşturur"
   ]
  },
  {
   "cell_type": "code",
   "execution_count": 31,
   "metadata": {
    "colab": {
     "base_uri": "https://localhost:8080/",
     "height": 1000
    },
    "id": "wNk3WmZqPmmY",
    "outputId": "788f30d9-6446-488b-869a-ab84f2cc3c41"
   },
   "outputs": [
    {
     "name": "stderr",
     "output_type": "stream",
     "text": [
      "No artists with labels found to put in legend.  Note that artists whose label start with an underscore are ignored when legend() is called with no argument.\n"
     ]
    },
    {
     "data": {
      "image/png": "[encoded data removed]",
      "text/plain": [
       "<Figure size 2160x2160 with 2 Axes>"
      ]
     },
     "metadata": {},
     "output_type": "display_data"
    }
   ],
   "source": [
    "plt.figure(figsize=(30,30))\n",
    "plt.scatter(y=x['Happiness score'],x=x['Explained by: GDP per capita'],c=pred, cmap='RdYlGn')\n",
    "plt.legend()\n",
    "plt.colorbar()\n",
    "plt.show();"
   ]
  },
  {
   "cell_type": "markdown",
   "metadata": {
    "id": "wRDSFVH0DeiJ"
   },
   "source": [
    "##GIS-Geographic Information Systems-coğrafi bilgi sistemleri"
   ]
  },
  {
   "cell_type": "code",
   "execution_count": 32,
   "metadata": {
    "colab": {
     "base_uri": "https://localhost:8080/"
    },
    "id": "rk3yG7QsRVTG",
    "outputId": "3f8988ce-d541-4563-9b04-2ca5ab90552b"
   },
   "outputs": [
    {
     "name": "stdout",
     "output_type": "stream",
     "text": [
      "Requirement already satisfied: plotly in c:\\anaconda\\lib\\site-packages (5.6.0)\n",
      "Requirement already satisfied: tenacity>=6.2.0 in c:\\anaconda\\lib\\site-packages (from plotly) (8.0.1)\n",
      "Requirement already satisfied: six in c:\\anaconda\\lib\\site-packages (from plotly) (1.16.0)\n"
     ]
    }
   ],
   "source": [
    "!pip install plotly"
   ]
  },
  {
   "cell_type": "code",
   "execution_count": 33,
   "metadata": {
    "colab": {
     "base_uri": "https://localhost:8080/",
     "height": 17
    },
    "id": "HFVkhPC1cgmm",
    "outputId": "71a2660e-6f3d-4b51-869a-21ca22a1ac96"
   },
   "outputs": [
    {
     "data": {
      "text/html": [
       "        <script type=\"text/javascript\">\n",
       "        window.PlotlyConfig = {MathJaxConfig: 'local'};\n",
       "        if (window.MathJax) {MathJax.Hub.Config({SVG: {font: \"STIX-Web\"}});}\n",
       "        if (typeof require !== 'undefined') {\n",
       "        require.undef(\"plotly\");\n",
       "        requirejs.config({\n",
       "            paths: {\n",
       "                'plotly': ['https://cdn.plot.ly/plotly-2.9.0.min']\n",
       "            }\n",
       "        });\n",
       "        require(['plotly'], function(Plotly) {\n",
       "            window._Plotly = Plotly;\n",
       "        });\n",
       "        }\n",
       "        </script>\n",
       "        "
      ]
     },
     "metadata": {},
     "output_type": "display_data"
    }
   ],
   "source": [
    "import plotly.graph_objects as go\n",
    "from plotly.offline import init_notebook_mode, iplot, plot\n",
    "init_notebook_mode(connected=True)"
   ]
  },
  {
   "cell_type": "code",
   "execution_count": 34,
   "metadata": {
    "id": "9_IokCdociPG"
   },
   "outputs": [],
   "source": [
    "data=dict(\n",
    "    type=\"choropleth\",\n",
    "    colorscale='aggrnyl',\n",
    "    reversescale=True,\n",
    "    locations=df['Country'],\n",
    "    locationmode=\"country names\",\n",
    "    z=df[\"cluster\"],\n",
    "    text=df[\"Country\"], \n",
    "    colorbar={'title':'Cluster Groups'}  \n",
    ")\n",
    "\n",
    "layout=dict(title='Cluster Groups around the World',\n",
    "            geo=dict(showframe=False,projection={'type':'mercator'})\n",
    "           )"
   ]
  },
  {
   "cell_type": "code",
   "execution_count": 35,
   "metadata": {
    "colab": {
     "base_uri": "https://localhost:8080/",
     "height": 542
    },
    "id": "ZyquT6mFcvzW",
    "outputId": "4187d2c7-40dd-40fd-c70c-d11fd1f32ef3"
   },
   "outputs": [
    {
     "data": {
      "application/vnd.plotly.v1+json": {
       "config": {
        "linkText": "Export to plot.ly",
        "plotlyServerURL": "https://plot.ly",
        "showLink": false
       },
       "data": [
        {
         "colorbar": {
          "title": {
           "text": "Cluster Groups"
          }
         },
         "colorscale": [
          [
           0,
           "rgb(36, 86, 104)"
          ],
          [
           0.16666666666666666,
           "rgb(15, 114, 121)"
          ],
          [
           0.3333333333333333,
           "rgb(13, 143, 129)"
          ],
          [
           0.5,
           "rgb(57, 171, 126)"
          ],
          [
           0.6666666666666666,
           "rgb(110, 197, 116)"
          ],
          [
           0.8333333333333334,
           "rgb(169, 220, 103)"
          ],
          [
           1,
           "rgb(237, 239, 93)"
          ]
         ],
         "locationmode": "country names",
         "locations": [
          "Finland",
          "Denmark",
          "Iceland",
          "Switzerland",
          "Netherlands",
          "Luxembourg*",
          "Sweden",
          "Norway",
          "Israel",
          "New Zealand",
          "Austria",
          "Australia",
          "Ireland",
          "Germany",
          "Canada",
          "United States",
          "United Kingdom",
          "Czechia",
          "Belgium",
          "France",
          "Bahrain",
          "Slovenia",
          "Costa Rica",
          "United Arab Emirates",
          "Saudi Arabia",
          "Taiwan Province of China",
          "Singapore",
          "Romania",
          "Spain",
          "Uruguay",
          "Italy",
          "Kosovo",
          "Malta",
          "Lithuania",
          "Slovakia",
          "Estonia",
          "Panama",
          "Brazil",
          "Guatemala*",
          "Kazakhstan",
          "Cyprus",
          "Latvia",
          "Serbia",
          "Chile",
          "Nicaragua",
          "Mexico",
          "Croatia",
          "Poland",
          "El Salvador",
          "Kuwait*",
          "Hungary",
          "Mauritius",
          "Uzbekistan",
          "Japan",
          "Honduras",
          "Portugal",
          "Argentina",
          "Greece",
          "South Korea",
          "Philippines",
          "Thailand",
          "Moldova",
          "Jamaica",
          "Kyrgyzstan",
          "Belarus*",
          "Colombia",
          "Bosnia and Herzegovina",
          "Mongolia",
          "Dominican Republic",
          "Malaysia",
          "Bolivia",
          "China",
          "Paraguay",
          "Peru",
          "Montenegro",
          "Ecuador",
          "Vietnam",
          "Turkmenistan*",
          "North Cyprus*",
          "Russia",
          "Hong Kong S.A.R. of China",
          "Armenia",
          "Tajikistan",
          "Nepal",
          "Bulgaria",
          "Libya*",
          "Indonesia",
          "Ivory Coast",
          "North Macedonia",
          "Albania",
          "South Africa",
          "Azerbaijan*",
          "Gambia*",
          "Bangladesh",
          "Laos",
          "Algeria",
          "Liberia*",
          "Ukraine",
          "Congo",
          "Morocco",
          "Mozambique",
          "Cameroon",
          "Senegal",
          "Niger*",
          "Georgia",
          "Gabon",
          "Iraq",
          "Venezuela",
          "Guinea",
          "Iran",
          "Ghana",
          "Turkey",
          "Burkina Faso",
          "Cambodia",
          "Benin",
          "Comoros*",
          "Uganda",
          "Nigeria",
          "Kenya",
          "Tunisia",
          "Pakistan",
          "Palestinian Territories*",
          "Mali",
          "Namibia",
          "Eswatini, Kingdom of*",
          "Myanmar",
          "Sri Lanka",
          "Madagascar*",
          "Egypt",
          "Chad*",
          "Ethiopia",
          "Yemen*",
          "Mauritania*",
          "Jordan",
          "Togo",
          "India",
          "Zambia",
          "Malawi",
          "Tanzania",
          "Sierra Leone",
          "Lesotho*",
          "Botswana*",
          "Rwanda*",
          "Zimbabwe",
          "Lebanon",
          "Afghanistan"
         ],
         "reversescale": true,
         "text": [
          "Finland",
          "Denmark",
          "Iceland",
          "Switzerland",
          "Netherlands",
          "Luxembourg*",
          "Sweden",
          "Norway",
          "Israel",
          "New Zealand",
          "Austria",
          "Australia",
          "Ireland",
          "Germany",
          "Canada",
          "United States",
          "United Kingdom",
          "Czechia",
          "Belgium",
          "France",
          "Bahrain",
          "Slovenia",
          "Costa Rica",
          "United Arab Emirates",
          "Saudi Arabia",
          "Taiwan Province of China",
          "Singapore",
          "Romania",
          "Spain",
          "Uruguay",
          "Italy",
          "Kosovo",
          "Malta",
          "Lithuania",
          "Slovakia",
          "Estonia",
          "Panama",
          "Brazil",
          "Guatemala*",
          "Kazakhstan",
          "Cyprus",
          "Latvia",
          "Serbia",
          "Chile",
          "Nicaragua",
          "Mexico",
          "Croatia",
          "Poland",
          "El Salvador",
          "Kuwait*",
          "Hungary",
          "Mauritius",
          "Uzbekistan",
          "Japan",
          "Honduras",
          "Portugal",
          "Argentina",
          "Greece",
          "South Korea",
          "Philippines",
          "Thailand",
          "Moldova",
          "Jamaica",
          "Kyrgyzstan",
          "Belarus*",
          "Colombia",
          "Bosnia and Herzegovina",
          "Mongolia",
          "Dominican Republic",
          "Malaysia",
          "Bolivia",
          "China",
          "Paraguay",
          "Peru",
          "Montenegro",
          "Ecuador",
          "Vietnam",
          "Turkmenistan*",
          "North Cyprus*",
          "Russia",
          "Hong Kong S.A.R. of China",
          "Armenia",
          "Tajikistan",
          "Nepal",
          "Bulgaria",
          "Libya*",
          "Indonesia",
          "Ivory Coast",
          "North Macedonia",
          "Albania",
          "South Africa",
          "Azerbaijan*",
          "Gambia*",
          "Bangladesh",
          "Laos",
          "Algeria",
          "Liberia*",
          "Ukraine",
          "Congo",
          "Morocco",
          "Mozambique",
          "Cameroon",
          "Senegal",
          "Niger*",
          "Georgia",
          "Gabon",
          "Iraq",
          "Venezuela",
          "Guinea",
          "Iran",
          "Ghana",
          "Turkey",
          "Burkina Faso",
          "Cambodia",
          "Benin",
          "Comoros*",
          "Uganda",
          "Nigeria",
          "Kenya",
          "Tunisia",
          "Pakistan",
          "Palestinian Territories*",
          "Mali",
          "Namibia",
          "Eswatini, Kingdom of*",
          "Myanmar",
          "Sri Lanka",
          "Madagascar*",
          "Egypt",
          "Chad*",
          "Ethiopia",
          "Yemen*",
          "Mauritania*",
          "Jordan",
          "Togo",
          "India",
          "Zambia",
          "Malawi",
          "Tanzania",
          "Sierra Leone",
          "Lesotho*",
          "Botswana*",
          "Rwanda*",
          "Zimbabwe",
          "Lebanon",
          "Afghanistan"
         ],
         "type": "choropleth",
         "z": [
          2,
          2,
          2,
          2,
          2,
          2,
          2,
          2,
          2,
          2,
          2,
          2,
          2,
          2,
          2,
          2,
          2,
          2,
          2,
          2,
          2,
          2,
          0,
          0,
          0,
          0,
          0,
          0,
          0,
          0,
          0,
          0,
          0,
          0,
          0,
          0,
          0,
          0,
          0,
          0,
          0,
          0,
          0,
          0,
          0,
          0,
          0,
          0,
          0,
          0,
          0,
          0,
          0,
          0,
          0,
          0,
          0,
          0,
          0,
          0,
          0,
          0,
          0,
          0,
          0,
          0,
          0,
          0,
          0,
          0,
          0,
          0,
          0,
          0,
          0,
          0,
          0,
          0,
          0,
          0,
          0,
          1,
          1,
          1,
          1,
          1,
          1,
          1,
          1,
          1,
          1,
          1,
          1,
          1,
          1,
          1,
          1,
          1,
          1,
          1,
          1,
          1,
          1,
          1,
          1,
          1,
          1,
          1,
          1,
          1,
          1,
          1,
          1,
          1,
          1,
          1,
          1,
          1,
          1,
          1,
          1,
          1,
          1,
          1,
          1,
          1,
          1,
          1,
          1,
          1,
          1,
          1,
          1,
          1,
          1,
          1,
          1,
          1,
          1,
          1,
          1,
          1,
          1,
          1,
          1,
          1
         ]
        }
       ],
       "layout": {
        "geo": {
         "projection": {
          "type": "mercator"
         },
         "showframe": false
        },
        "template": {
         "data": {
          "bar": [
           {
            "error_x": {
             "color": "#2a3f5f"
            },
            "error_y": {
             "color": "#2a3f5f"
            },
            "marker": {
             "line": {
              "color": "#E5ECF6",
              "width": 0.5
             },
             "pattern": {
              "fillmode": "overlay",
              "size": 10,
              "solidity": 0.2
             }
            },
            "type": "bar"
           }
          ],
          "barpolar": [
           {
            "marker": {
             "line": {
              "color": "#E5ECF6",
              "width": 0.5
             },
             "pattern": {
              "fillmode": "overlay",
              "size": 10,
              "solidity": 0.2
             }
            },
            "type": "barpolar"
           }
          ],
          "carpet": [
           {
            "aaxis": {
             "endlinecolor": "#2a3f5f",
             "gridcolor": "white",
             "linecolor": "white",
             "minorgridcolor": "white",
             "startlinecolor": "#2a3f5f"
            },
            "baxis": {
             "endlinecolor": "#2a3f5f",
             "gridcolor": "white",
             "linecolor": "white",
             "minorgridcolor": "white",
             "startlinecolor": "#2a3f5f"
            },
            "type": "carpet"
           }
          ],
          "choropleth": [
           {
            "colorbar": {
             "outlinewidth": 0,
             "ticks": ""
            },
            "type": "choropleth"
           }
          ],
          "contour": [
           {
            "colorbar": {
             "outlinewidth": 0,
             "ticks": ""
            },
            "colorscale": [
             [
              0,
              "#0d0887"
             ],
             [
              0.1111111111111111,
              "#46039f"
             ],
             [
              0.2222222222222222,
              "#7201a8"
             ],
             [
              0.3333333333333333,
              "#9c179e"
             ],
             [
              0.4444444444444444,
              "#bd3786"
             ],
             [
              0.5555555555555556,
              "#d8576b"
             ],
             [
              0.6666666666666666,
              "#ed7953"
             ],
             [
              0.7777777777777778,
              "#fb9f3a"
             ],
             [
              0.8888888888888888,
              "#fdca26"
             ],
             [
              1,
              "#f0f921"
             ]
            ],
            "type": "contour"
           }
          ],
          "contourcarpet": [
           {
            "colorbar": {
             "outlinewidth": 0,
             "ticks": ""
            },
            "type": "contourcarpet"
           }
          ],
          "heatmap": [
           {
            "colorbar": {
             "outlinewidth": 0,
             "ticks": ""
            },
            "colorscale": [
             [
              0,
              "#0d0887"
             ],
             [
              0.1111111111111111,
              "#46039f"
             ],
             [
              0.2222222222222222,
              "#7201a8"
             ],
             [
              0.3333333333333333,
              "#9c179e"
             ],
             [
              0.4444444444444444,
              "#bd3786"
             ],
             [
              0.5555555555555556,
              "#d8576b"
             ],
             [
              0.6666666666666666,
              "#ed7953"
             ],
             [
              0.7777777777777778,
              "#fb9f3a"
             ],
             [
              0.8888888888888888,
              "#fdca26"
             ],
             [
              1,
              "#f0f921"
             ]
            ],
            "type": "heatmap"
           }
          ],
          "heatmapgl": [
           {
            "colorbar": {
             "outlinewidth": 0,
             "ticks": ""
            },
            "colorscale": [
             [
              0,
              "#0d0887"
             ],
             [
              0.1111111111111111,
              "#46039f"
             ],
             [
              0.2222222222222222,
              "#7201a8"
             ],
             [
              0.3333333333333333,
              "#9c179e"
             ],
             [
              0.4444444444444444,
              "#bd3786"
             ],
             [
              0.5555555555555556,
              "#d8576b"
             ],
             [
              0.6666666666666666,
              "#ed7953"
             ],
             [
              0.7777777777777778,
              "#fb9f3a"
             ],
             [
              0.8888888888888888,
              "#fdca26"
             ],
             [
              1,
              "#f0f921"
             ]
            ],
            "type": "heatmapgl"
           }
          ],
          "histogram": [
           {
            "marker": {
             "pattern": {
              "fillmode": "overlay",
              "size": 10,
              "solidity": 0.2
             }
            },
            "type": "histogram"
           }
          ],
          "histogram2d": [
           {
            "colorbar": {
             "outlinewidth": 0,
             "ticks": ""
            },
            "colorscale": [
             [
              0,
              "#0d0887"
             ],
             [
              0.1111111111111111,
              "#46039f"
             ],
             [
              0.2222222222222222,
              "#7201a8"
             ],
             [
              0.3333333333333333,
              "#9c179e"
             ],
             [
              0.4444444444444444,
              "#bd3786"
             ],
             [
              0.5555555555555556,
              "#d8576b"
             ],
             [
              0.6666666666666666,
              "#ed7953"
             ],
             [
              0.7777777777777778,
              "#fb9f3a"
             ],
             [
              0.8888888888888888,
              "#fdca26"
             ],
             [
              1,
              "#f0f921"
             ]
            ],
            "type": "histogram2d"
           }
          ],
          "histogram2dcontour": [
           {
            "colorbar": {
             "outlinewidth": 0,
             "ticks": ""
            },
            "colorscale": [
             [
              0,
              "#0d0887"
             ],
             [
              0.1111111111111111,
              "#46039f"
             ],
             [
              0.2222222222222222,
              "#7201a8"
             ],
             [
              0.3333333333333333,
              "#9c179e"
             ],
             [
              0.4444444444444444,
              "#bd3786"
             ],
             [
              0.5555555555555556,
              "#d8576b"
             ],
             [
              0.6666666666666666,
              "#ed7953"
             ],
             [
              0.7777777777777778,
              "#fb9f3a"
             ],
             [
              0.8888888888888888,
              "#fdca26"
             ],
             [
              1,
              "#f0f921"
             ]
            ],
            "type": "histogram2dcontour"
           }
          ],
          "mesh3d": [
           {
            "colorbar": {
             "outlinewidth": 0,
             "ticks": ""
            },
            "type": "mesh3d"
           }
          ],
          "parcoords": [
           {
            "line": {
             "colorbar": {
              "outlinewidth": 0,
              "ticks": ""
             }
            },
            "type": "parcoords"
           }
          ],
          "pie": [
           {
            "automargin": true,
            "type": "pie"
           }
          ],
          "scatter": [
           {
            "marker": {
             "colorbar": {
              "outlinewidth": 0,
              "ticks": ""
             }
            },
            "type": "scatter"
           }
          ],
          "scatter3d": [
           {
            "line": {
             "colorbar": {
              "outlinewidth": 0,
              "ticks": ""
             }
            },
            "marker": {
             "colorbar": {
              "outlinewidth": 0,
              "ticks": ""
             }
            },
            "type": "scatter3d"
           }
          ],
          "scattercarpet": [
           {
            "marker": {
             "colorbar": {
              "outlinewidth": 0,
              "ticks": ""
             }
            },
            "type": "scattercarpet"
           }
          ],
          "scattergeo": [
           {
            "marker": {
             "colorbar": {
              "outlinewidth": 0,
              "ticks": ""
             }
            },
            "type": "scattergeo"
           }
          ],
          "scattergl": [
           {
            "marker": {
             "colorbar": {
              "outlinewidth": 0,
              "ticks": ""
             }
            },
            "type": "scattergl"
           }
          ],
          "scattermapbox": [
           {
            "marker": {
             "colorbar": {
              "outlinewidth": 0,
              "ticks": ""
             }
            },
            "type": "scattermapbox"
           }
          ],
          "scatterpolar": [
           {
            "marker": {
             "colorbar": {
              "outlinewidth": 0,
              "ticks": ""
             }
            },
            "type": "scatterpolar"
           }
          ],
          "scatterpolargl": [
           {
            "marker": {
             "colorbar": {
              "outlinewidth": 0,
              "ticks": ""
             }
            },
            "type": "scatterpolargl"
           }
          ],
          "scatterternary": [
           {
            "marker": {
             "colorbar": {
              "outlinewidth": 0,
              "ticks": ""
             }
            },
            "type": "scatterternary"
           }
          ],
          "surface": [
           {
            "colorbar": {
             "outlinewidth": 0,
             "ticks": ""
            },
            "colorscale": [
             [
              0,
              "#0d0887"
             ],
             [
              0.1111111111111111,
              "#46039f"
             ],
             [
              0.2222222222222222,
              "#7201a8"
             ],
             [
              0.3333333333333333,
              "#9c179e"
             ],
             [
              0.4444444444444444,
              "#bd3786"
             ],
             [
              0.5555555555555556,
              "#d8576b"
             ],
             [
              0.6666666666666666,
              "#ed7953"
             ],
             [
              0.7777777777777778,
              "#fb9f3a"
             ],
             [
              0.8888888888888888,
              "#fdca26"
             ],
             [
              1,
              "#f0f921"
             ]
            ],
            "type": "surface"
           }
          ],
          "table": [
           {
            "cells": {
             "fill": {
              "color": "#EBF0F8"
             },
             "line": {
              "color": "white"
             }
            },
            "header": {
             "fill": {
              "color": "#C8D4E3"
             },
             "line": {
              "color": "white"
             }
            },
            "type": "table"
           }
          ]
         },
         "layout": {
          "annotationdefaults": {
           "arrowcolor": "#2a3f5f",
           "arrowhead": 0,
           "arrowwidth": 1
          },
          "autotypenumbers": "strict",
          "coloraxis": {
           "colorbar": {
            "outlinewidth": 0,
            "ticks": ""
           }
          },
          "colorscale": {
           "diverging": [
            [
             0,
             "#8e0152"
            ],
            [
             0.1,
             "#c51b7d"
            ],
            [
             0.2,
             "#de77ae"
            ],
            [
             0.3,
             "#f1b6da"
            ],
            [
             0.4,
             "#fde0ef"
            ],
            [
             0.5,
             "#f7f7f7"
            ],
            [
             0.6,
             "#e6f5d0"
            ],
            [
             0.7,
             "#b8e186"
            ],
            [
             0.8,
             "#7fbc41"
            ],
            [
             0.9,
             "#4d9221"
            ],
            [
             1,
             "#276419"
            ]
           ],
           "sequential": [
            [
             0,
             "#0d0887"
            ],
            [
             0.1111111111111111,
             "#46039f"
            ],
            [
             0.2222222222222222,
             "#7201a8"
            ],
            [
             0.3333333333333333,
             "#9c179e"
            ],
            [
             0.4444444444444444,
             "#bd3786"
            ],
            [
             0.5555555555555556,
             "#d8576b"
            ],
            [
             0.6666666666666666,
             "#ed7953"
            ],
            [
             0.7777777777777778,
             "#fb9f3a"
            ],
            [
             0.8888888888888888,
             "#fdca26"
            ],
            [
             1,
             "#f0f921"
            ]
           ],
           "sequentialminus": [
            [
             0,
             "#0d0887"
            ],
            [
             0.1111111111111111,
             "#46039f"
            ],
            [
             0.2222222222222222,
             "#7201a8"
            ],
            [
             0.3333333333333333,
             "#9c179e"
            ],
            [
             0.4444444444444444,
             "#bd3786"
            ],
            [
             0.5555555555555556,
             "#d8576b"
            ],
            [
             0.6666666666666666,
             "#ed7953"
            ],
            [
             0.7777777777777778,
             "#fb9f3a"
            ],
            [
             0.8888888888888888,
             "#fdca26"
            ],
            [
             1,
             "#f0f921"
            ]
           ]
          },
          "colorway": [
           "#636efa",
           "#EF553B",
           "#00cc96",
           "#ab63fa",
           "#FFA15A",
           "#19d3f3",
           "#FF6692",
           "#B6E880",
           "#FF97FF",
           "#FECB52"
          ],
          "font": {
           "color": "#2a3f5f"
          },
          "geo": {
           "bgcolor": "white",
           "lakecolor": "white",
           "landcolor": "#E5ECF6",
           "showlakes": true,
           "showland": true,
           "subunitcolor": "white"
          },
          "hoverlabel": {
           "align": "left"
          },
          "hovermode": "closest",
          "mapbox": {
           "style": "light"
          },
          "paper_bgcolor": "white",
          "plot_bgcolor": "#E5ECF6",
          "polar": {
           "angularaxis": {
            "gridcolor": "white",
            "linecolor": "white",
            "ticks": ""
           },
           "bgcolor": "#E5ECF6",
           "radialaxis": {
            "gridcolor": "white",
            "linecolor": "white",
            "ticks": ""
           }
          },
          "scene": {
           "xaxis": {
            "backgroundcolor": "#E5ECF6",
            "gridcolor": "white",
            "gridwidth": 2,
            "linecolor": "white",
            "showbackground": true,
            "ticks": "",
            "zerolinecolor": "white"
           },
           "yaxis": {
            "backgroundcolor": "#E5ECF6",
            "gridcolor": "white",
            "gridwidth": 2,
            "linecolor": "white",
            "showbackground": true,
            "ticks": "",
            "zerolinecolor": "white"
           },
           "zaxis": {
            "backgroundcolor": "#E5ECF6",
            "gridcolor": "white",
            "gridwidth": 2,
            "linecolor": "white",
            "showbackground": true,
            "ticks": "",
            "zerolinecolor": "white"
           }
          },
          "shapedefaults": {
           "line": {
            "color": "#2a3f5f"
           }
          },
          "ternary": {
           "aaxis": {
            "gridcolor": "white",
            "linecolor": "white",
            "ticks": ""
           },
           "baxis": {
            "gridcolor": "white",
            "linecolor": "white",
            "ticks": ""
           },
           "bgcolor": "#E5ECF6",
           "caxis": {
            "gridcolor": "white",
            "linecolor": "white",
            "ticks": ""
           }
          },
          "title": {
           "x": 0.05
          },
          "xaxis": {
           "automargin": true,
           "gridcolor": "white",
           "linecolor": "white",
           "ticks": "",
           "title": {
            "standoff": 15
           },
           "zerolinecolor": "white",
           "zerolinewidth": 2
          },
          "yaxis": {
           "automargin": true,
           "gridcolor": "white",
           "linecolor": "white",
           "ticks": "",
           "title": {
            "standoff": 15
           },
           "zerolinecolor": "white",
           "zerolinewidth": 2
          }
         }
        },
        "title": {
         "text": "Cluster Groups around the World"
        }
       }
      },
      "text/html": [
       "<div>                            <div id=\"295284f8-04b9-4644-8de1-44cbe397dac1\" class=\"plotly-graph-div\" style=\"height:525px; width:100%;\"></div>            <script type=\"text/javascript\">                require([\"plotly\"], function(Plotly) {                    window.PLOTLYENV=window.PLOTLYENV || {};                                    if (document.getElementById(\"295284f8-04b9-4644-8de1-44cbe397dac1\")) {                    Plotly.newPlot(                        \"295284f8-04b9-4644-8de1-44cbe397dac1\",                        [{\"colorbar\":{\"title\":{\"text\":\"Cluster Groups\"}},\"colorscale\":[[0.0,\"rgb(36, 86, 104)\"],[0.16666666666666666,\"rgb(15, 114, 121)\"],[0.3333333333333333,\"rgb(13, 143, 129)\"],[0.5,\"rgb(57, 171, 126)\"],[0.6666666666666666,\"rgb(110, 197, 116)\"],[0.8333333333333334,\"rgb(169, 220, 103)\"],[1.0,\"rgb(237, 239, 93)\"]],\"locationmode\":\"country names\",\"locations\":[\"Finland\",\"Denmark\",\"Iceland\",\"Switzerland\",\"Netherlands\",\"Luxembourg*\",\"Sweden\",\"Norway\",\"Israel\",\"New Zealand\",\"Austria\",\"Australia\",\"Ireland\",\"Germany\",\"Canada\",\"United States\",\"United Kingdom\",\"Czechia\",\"Belgium\",\"France\",\"Bahrain\",\"Slovenia\",\"Costa Rica\",\"United Arab Emirates\",\"Saudi Arabia\",\"Taiwan Province of China\",\"Singapore\",\"Romania\",\"Spain\",\"Uruguay\",\"Italy\",\"Kosovo\",\"Malta\",\"Lithuania\",\"Slovakia\",\"Estonia\",\"Panama\",\"Brazil\",\"Guatemala*\",\"Kazakhstan\",\"Cyprus\",\"Latvia\",\"Serbia\",\"Chile\",\"Nicaragua\",\"Mexico\",\"Croatia\",\"Poland\",\"El Salvador\",\"Kuwait*\",\"Hungary\",\"Mauritius\",\"Uzbekistan\",\"Japan\",\"Honduras\",\"Portugal\",\"Argentina\",\"Greece\",\"South Korea\",\"Philippines\",\"Thailand\",\"Moldova\",\"Jamaica\",\"Kyrgyzstan\",\"Belarus*\",\"Colombia\",\"Bosnia and Herzegovina\",\"Mongolia\",\"Dominican Republic\",\"Malaysia\",\"Bolivia\",\"China\",\"Paraguay\",\"Peru\",\"Montenegro\",\"Ecuador\",\"Vietnam\",\"Turkmenistan*\",\"North Cyprus*\",\"Russia\",\"Hong Kong S.A.R. of China\",\"Armenia\",\"Tajikistan\",\"Nepal\",\"Bulgaria\",\"Libya*\",\"Indonesia\",\"Ivory Coast\",\"North Macedonia\",\"Albania\",\"South Africa\",\"Azerbaijan*\",\"Gambia*\",\"Bangladesh\",\"Laos\",\"Algeria\",\"Liberia*\",\"Ukraine\",\"Congo\",\"Morocco\",\"Mozambique\",\"Cameroon\",\"Senegal\",\"Niger*\",\"Georgia\",\"Gabon\",\"Iraq\",\"Venezuela\",\"Guinea\",\"Iran\",\"Ghana\",\"Turkey\",\"Burkina Faso\",\"Cambodia\",\"Benin\",\"Comoros*\",\"Uganda\",\"Nigeria\",\"Kenya\",\"Tunisia\",\"Pakistan\",\"Palestinian Territories*\",\"Mali\",\"Namibia\",\"Eswatini, Kingdom of*\",\"Myanmar\",\"Sri Lanka\",\"Madagascar*\",\"Egypt\",\"Chad*\",\"Ethiopia\",\"Yemen*\",\"Mauritania*\",\"Jordan\",\"Togo\",\"India\",\"Zambia\",\"Malawi\",\"Tanzania\",\"Sierra Leone\",\"Lesotho*\",\"Botswana*\",\"Rwanda*\",\"Zimbabwe\",\"Lebanon\",\"Afghanistan\"],\"reversescale\":true,\"text\":[\"Finland\",\"Denmark\",\"Iceland\",\"Switzerland\",\"Netherlands\",\"Luxembourg*\",\"Sweden\",\"Norway\",\"Israel\",\"New Zealand\",\"Austria\",\"Australia\",\"Ireland\",\"Germany\",\"Canada\",\"United States\",\"United Kingdom\",\"Czechia\",\"Belgium\",\"France\",\"Bahrain\",\"Slovenia\",\"Costa Rica\",\"United Arab Emirates\",\"Saudi Arabia\",\"Taiwan Province of China\",\"Singapore\",\"Romania\",\"Spain\",\"Uruguay\",\"Italy\",\"Kosovo\",\"Malta\",\"Lithuania\",\"Slovakia\",\"Estonia\",\"Panama\",\"Brazil\",\"Guatemala*\",\"Kazakhstan\",\"Cyprus\",\"Latvia\",\"Serbia\",\"Chile\",\"Nicaragua\",\"Mexico\",\"Croatia\",\"Poland\",\"El Salvador\",\"Kuwait*\",\"Hungary\",\"Mauritius\",\"Uzbekistan\",\"Japan\",\"Honduras\",\"Portugal\",\"Argentina\",\"Greece\",\"South Korea\",\"Philippines\",\"Thailand\",\"Moldova\",\"Jamaica\",\"Kyrgyzstan\",\"Belarus*\",\"Colombia\",\"Bosnia and Herzegovina\",\"Mongolia\",\"Dominican Republic\",\"Malaysia\",\"Bolivia\",\"China\",\"Paraguay\",\"Peru\",\"Montenegro\",\"Ecuador\",\"Vietnam\",\"Turkmenistan*\",\"North Cyprus*\",\"Russia\",\"Hong Kong S.A.R. of China\",\"Armenia\",\"Tajikistan\",\"Nepal\",\"Bulgaria\",\"Libya*\",\"Indonesia\",\"Ivory Coast\",\"North Macedonia\",\"Albania\",\"South Africa\",\"Azerbaijan*\",\"Gambia*\",\"Bangladesh\",\"Laos\",\"Algeria\",\"Liberia*\",\"Ukraine\",\"Congo\",\"Morocco\",\"Mozambique\",\"Cameroon\",\"Senegal\",\"Niger*\",\"Georgia\",\"Gabon\",\"Iraq\",\"Venezuela\",\"Guinea\",\"Iran\",\"Ghana\",\"Turkey\",\"Burkina Faso\",\"Cambodia\",\"Benin\",\"Comoros*\",\"Uganda\",\"Nigeria\",\"Kenya\",\"Tunisia\",\"Pakistan\",\"Palestinian Territories*\",\"Mali\",\"Namibia\",\"Eswatini, Kingdom of*\",\"Myanmar\",\"Sri Lanka\",\"Madagascar*\",\"Egypt\",\"Chad*\",\"Ethiopia\",\"Yemen*\",\"Mauritania*\",\"Jordan\",\"Togo\",\"India\",\"Zambia\",\"Malawi\",\"Tanzania\",\"Sierra Leone\",\"Lesotho*\",\"Botswana*\",\"Rwanda*\",\"Zimbabwe\",\"Lebanon\",\"Afghanistan\"],\"z\":[2,2,2,2,2,2,2,2,2,2,2,2,2,2,2,2,2,2,2,2,2,2,0,0,0,0,0,0,0,0,0,0,0,0,0,0,0,0,0,0,0,0,0,0,0,0,0,0,0,0,0,0,0,0,0,0,0,0,0,0,0,0,0,0,0,0,0,0,0,0,0,0,0,0,0,0,0,0,0,0,0,1,1,1,1,1,1,1,1,1,1,1,1,1,1,1,1,1,1,1,1,1,1,1,1,1,1,1,1,1,1,1,1,1,1,1,1,1,1,1,1,1,1,1,1,1,1,1,1,1,1,1,1,1,1,1,1,1,1,1,1,1,1,1,1,1],\"type\":\"choropleth\"}],                        {\"geo\":{\"projection\":{\"type\":\"mercator\"},\"showframe\":false},\"title\":{\"text\":\"Cluster Groups around the World\"},\"template\":{\"data\":{\"bar\":[{\"error_x\":{\"color\":\"#2a3f5f\"},\"error_y\":{\"color\":\"#2a3f5f\"},\"marker\":{\"line\":{\"color\":\"#E5ECF6\",\"width\":0.5},\"pattern\":{\"fillmode\":\"overlay\",\"size\":10,\"solidity\":0.2}},\"type\":\"bar\"}],\"barpolar\":[{\"marker\":{\"line\":{\"color\":\"#E5ECF6\",\"width\":0.5},\"pattern\":{\"fillmode\":\"overlay\",\"size\":10,\"solidity\":0.2}},\"type\":\"barpolar\"}],\"carpet\":[{\"aaxis\":{\"endlinecolor\":\"#2a3f5f\",\"gridcolor\":\"white\",\"linecolor\":\"white\",\"minorgridcolor\":\"white\",\"startlinecolor\":\"#2a3f5f\"},\"baxis\":{\"endlinecolor\":\"#2a3f5f\",\"gridcolor\":\"white\",\"linecolor\":\"white\",\"minorgridcolor\":\"white\",\"startlinecolor\":\"#2a3f5f\"},\"type\":\"carpet\"}],\"choropleth\":[{\"colorbar\":{\"outlinewidth\":0,\"ticks\":\"\"},\"type\":\"choropleth\"}],\"contour\":[{\"colorbar\":{\"outlinewidth\":0,\"ticks\":\"\"},\"colorscale\":[[0.0,\"#0d0887\"],[0.1111111111111111,\"#46039f\"],[0.2222222222222222,\"#7201a8\"],[0.3333333333333333,\"#9c179e\"],[0.4444444444444444,\"#bd3786\"],[0.5555555555555556,\"#d8576b\"],[0.6666666666666666,\"#ed7953\"],[0.7777777777777778,\"#fb9f3a\"],[0.8888888888888888,\"#fdca26\"],[1.0,\"#f0f921\"]],\"type\":\"contour\"}],\"contourcarpet\":[{\"colorbar\":{\"outlinewidth\":0,\"ticks\":\"\"},\"type\":\"contourcarpet\"}],\"heatmap\":[{\"colorbar\":{\"outlinewidth\":0,\"ticks\":\"\"},\"colorscale\":[[0.0,\"#0d0887\"],[0.1111111111111111,\"#46039f\"],[0.2222222222222222,\"#7201a8\"],[0.3333333333333333,\"#9c179e\"],[0.4444444444444444,\"#bd3786\"],[0.5555555555555556,\"#d8576b\"],[0.6666666666666666,\"#ed7953\"],[0.7777777777777778,\"#fb9f3a\"],[0.8888888888888888,\"#fdca26\"],[1.0,\"#f0f921\"]],\"type\":\"heatmap\"}],\"heatmapgl\":[{\"colorbar\":{\"outlinewidth\":0,\"ticks\":\"\"},\"colorscale\":[[0.0,\"#0d0887\"],[0.1111111111111111,\"#46039f\"],[0.2222222222222222,\"#7201a8\"],[0.3333333333333333,\"#9c179e\"],[0.4444444444444444,\"#bd3786\"],[0.5555555555555556,\"#d8576b\"],[0.6666666666666666,\"#ed7953\"],[0.7777777777777778,\"#fb9f3a\"],[0.8888888888888888,\"#fdca26\"],[1.0,\"#f0f921\"]],\"type\":\"heatmapgl\"}],\"histogram\":[{\"marker\":{\"pattern\":{\"fillmode\":\"overlay\",\"size\":10,\"solidity\":0.2}},\"type\":\"histogram\"}],\"histogram2d\":[{\"colorbar\":{\"outlinewidth\":0,\"ticks\":\"\"},\"colorscale\":[[0.0,\"#0d0887\"],[0.1111111111111111,\"#46039f\"],[0.2222222222222222,\"#7201a8\"],[0.3333333333333333,\"#9c179e\"],[0.4444444444444444,\"#bd3786\"],[0.5555555555555556,\"#d8576b\"],[0.6666666666666666,\"#ed7953\"],[0.7777777777777778,\"#fb9f3a\"],[0.8888888888888888,\"#fdca26\"],[1.0,\"#f0f921\"]],\"type\":\"histogram2d\"}],\"histogram2dcontour\":[{\"colorbar\":{\"outlinewidth\":0,\"ticks\":\"\"},\"colorscale\":[[0.0,\"#0d0887\"],[0.1111111111111111,\"#46039f\"],[0.2222222222222222,\"#7201a8\"],[0.3333333333333333,\"#9c179e\"],[0.4444444444444444,\"#bd3786\"],[0.5555555555555556,\"#d8576b\"],[0.6666666666666666,\"#ed7953\"],[0.7777777777777778,\"#fb9f3a\"],[0.8888888888888888,\"#fdca26\"],[1.0,\"#f0f921\"]],\"type\":\"histogram2dcontour\"}],\"mesh3d\":[{\"colorbar\":{\"outlinewidth\":0,\"ticks\":\"\"},\"type\":\"mesh3d\"}],\"parcoords\":[{\"line\":{\"colorbar\":{\"outlinewidth\":0,\"ticks\":\"\"}},\"type\":\"parcoords\"}],\"pie\":[{\"automargin\":true,\"type\":\"pie\"}],\"scatter\":[{\"marker\":{\"colorbar\":{\"outlinewidth\":0,\"ticks\":\"\"}},\"type\":\"scatter\"}],\"scatter3d\":[{\"line\":{\"colorbar\":{\"outlinewidth\":0,\"ticks\":\"\"}},\"marker\":{\"colorbar\":{\"outlinewidth\":0,\"ticks\":\"\"}},\"type\":\"scatter3d\"}],\"scattercarpet\":[{\"marker\":{\"colorbar\":{\"outlinewidth\":0,\"ticks\":\"\"}},\"type\":\"scattercarpet\"}],\"scattergeo\":[{\"marker\":{\"colorbar\":{\"outlinewidth\":0,\"ticks\":\"\"}},\"type\":\"scattergeo\"}],\"scattergl\":[{\"marker\":{\"colorbar\":{\"outlinewidth\":0,\"ticks\":\"\"}},\"type\":\"scattergl\"}],\"scattermapbox\":[{\"marker\":{\"colorbar\":{\"outlinewidth\":0,\"ticks\":\"\"}},\"type\":\"scattermapbox\"}],\"scatterpolar\":[{\"marker\":{\"colorbar\":{\"outlinewidth\":0,\"ticks\":\"\"}},\"type\":\"scatterpolar\"}],\"scatterpolargl\":[{\"marker\":{\"colorbar\":{\"outlinewidth\":0,\"ticks\":\"\"}},\"type\":\"scatterpolargl\"}],\"scatterternary\":[{\"marker\":{\"colorbar\":{\"outlinewidth\":0,\"ticks\":\"\"}},\"type\":\"scatterternary\"}],\"surface\":[{\"colorbar\":{\"outlinewidth\":0,\"ticks\":\"\"},\"colorscale\":[[0.0,\"#0d0887\"],[0.1111111111111111,\"#46039f\"],[0.2222222222222222,\"#7201a8\"],[0.3333333333333333,\"#9c179e\"],[0.4444444444444444,\"#bd3786\"],[0.5555555555555556,\"#d8576b\"],[0.6666666666666666,\"#ed7953\"],[0.7777777777777778,\"#fb9f3a\"],[0.8888888888888888,\"#fdca26\"],[1.0,\"#f0f921\"]],\"type\":\"surface\"}],\"table\":[{\"cells\":{\"fill\":{\"color\":\"#EBF0F8\"},\"line\":{\"color\":\"white\"}},\"header\":{\"fill\":{\"color\":\"#C8D4E3\"},\"line\":{\"color\":\"white\"}},\"type\":\"table\"}]},\"layout\":{\"annotationdefaults\":{\"arrowcolor\":\"#2a3f5f\",\"arrowhead\":0,\"arrowwidth\":1},\"autotypenumbers\":\"strict\",\"coloraxis\":{\"colorbar\":{\"outlinewidth\":0,\"ticks\":\"\"}},\"colorscale\":{\"diverging\":[[0,\"#8e0152\"],[0.1,\"#c51b7d\"],[0.2,\"#de77ae\"],[0.3,\"#f1b6da\"],[0.4,\"#fde0ef\"],[0.5,\"#f7f7f7\"],[0.6,\"#e6f5d0\"],[0.7,\"#b8e186\"],[0.8,\"#7fbc41\"],[0.9,\"#4d9221\"],[1,\"#276419\"]],\"sequential\":[[0.0,\"#0d0887\"],[0.1111111111111111,\"#46039f\"],[0.2222222222222222,\"#7201a8\"],[0.3333333333333333,\"#9c179e\"],[0.4444444444444444,\"#bd3786\"],[0.5555555555555556,\"#d8576b\"],[0.6666666666666666,\"#ed7953\"],[0.7777777777777778,\"#fb9f3a\"],[0.8888888888888888,\"#fdca26\"],[1.0,\"#f0f921\"]],\"sequentialminus\":[[0.0,\"#0d0887\"],[0.1111111111111111,\"#46039f\"],[0.2222222222222222,\"#7201a8\"],[0.3333333333333333,\"#9c179e\"],[0.4444444444444444,\"#bd3786\"],[0.5555555555555556,\"#d8576b\"],[0.6666666666666666,\"#ed7953\"],[0.7777777777777778,\"#fb9f3a\"],[0.8888888888888888,\"#fdca26\"],[1.0,\"#f0f921\"]]},\"colorway\":[\"#636efa\",\"#EF553B\",\"#00cc96\",\"#ab63fa\",\"#FFA15A\",\"#19d3f3\",\"#FF6692\",\"#B6E880\",\"#FF97FF\",\"#FECB52\"],\"font\":{\"color\":\"#2a3f5f\"},\"geo\":{\"bgcolor\":\"white\",\"lakecolor\":\"white\",\"landcolor\":\"#E5ECF6\",\"showlakes\":true,\"showland\":true,\"subunitcolor\":\"white\"},\"hoverlabel\":{\"align\":\"left\"},\"hovermode\":\"closest\",\"mapbox\":{\"style\":\"light\"},\"paper_bgcolor\":\"white\",\"plot_bgcolor\":\"#E5ECF6\",\"polar\":{\"angularaxis\":{\"gridcolor\":\"white\",\"linecolor\":\"white\",\"ticks\":\"\"},\"bgcolor\":\"#E5ECF6\",\"radialaxis\":{\"gridcolor\":\"white\",\"linecolor\":\"white\",\"ticks\":\"\"}},\"scene\":{\"xaxis\":{\"backgroundcolor\":\"#E5ECF6\",\"gridcolor\":\"white\",\"gridwidth\":2,\"linecolor\":\"white\",\"showbackground\":true,\"ticks\":\"\",\"zerolinecolor\":\"white\"},\"yaxis\":{\"backgroundcolor\":\"#E5ECF6\",\"gridcolor\":\"white\",\"gridwidth\":2,\"linecolor\":\"white\",\"showbackground\":true,\"ticks\":\"\",\"zerolinecolor\":\"white\"},\"zaxis\":{\"backgroundcolor\":\"#E5ECF6\",\"gridcolor\":\"white\",\"gridwidth\":2,\"linecolor\":\"white\",\"showbackground\":true,\"ticks\":\"\",\"zerolinecolor\":\"white\"}},\"shapedefaults\":{\"line\":{\"color\":\"#2a3f5f\"}},\"ternary\":{\"aaxis\":{\"gridcolor\":\"white\",\"linecolor\":\"white\",\"ticks\":\"\"},\"baxis\":{\"gridcolor\":\"white\",\"linecolor\":\"white\",\"ticks\":\"\"},\"bgcolor\":\"#E5ECF6\",\"caxis\":{\"gridcolor\":\"white\",\"linecolor\":\"white\",\"ticks\":\"\"}},\"title\":{\"x\":0.05},\"xaxis\":{\"automargin\":true,\"gridcolor\":\"white\",\"linecolor\":\"white\",\"ticks\":\"\",\"title\":{\"standoff\":15},\"zerolinecolor\":\"white\",\"zerolinewidth\":2},\"yaxis\":{\"automargin\":true,\"gridcolor\":\"white\",\"linecolor\":\"white\",\"ticks\":\"\",\"title\":{\"standoff\":15},\"zerolinecolor\":\"white\",\"zerolinewidth\":2}}}},                        {\"responsive\": true}                    ).then(function(){\n",
       "                            \n",
       "var gd = document.getElementById('295284f8-04b9-4644-8de1-44cbe397dac1');\n",
       "var x = new MutationObserver(function (mutations, observer) {{\n",
       "        var display = window.getComputedStyle(gd).display;\n",
       "        if (!display || display === 'none') {{\n",
       "            console.log([gd, 'removed!']);\n",
       "            Plotly.purge(gd);\n",
       "            observer.disconnect();\n",
       "        }}\n",
       "}});\n",
       "\n",
       "// Listen for the removal of the full notebook cells\n",
       "var notebookContainer = gd.closest('#notebook-container');\n",
       "if (notebookContainer) {{\n",
       "    x.observe(notebookContainer, {childList: true});\n",
       "}}\n",
       "\n",
       "// Listen for the clearing of the current output cell\n",
       "var outputEl = gd.closest('.output');\n",
       "if (outputEl) {{\n",
       "    x.observe(outputEl, {childList: true});\n",
       "}}\n",
       "\n",
       "                        })                };                });            </script>        </div>"
      ]
     },
     "metadata": {},
     "output_type": "display_data"
    }
   ],
   "source": [
    "choromap=go.Figure(data=data,layout=layout)\n",
    "iplot(choromap, validate=False)"
   ]
  }
 ],
 "metadata": {
  "colab": {
   "provenance": []
  },
  "kernelspec": {
   "display_name": "Python 3 (ipykernel)",
   "language": "python",
   "name": "python3"
  },
  "language_info": {
   "codemirror_mode": {
    "name": "ipython",
    "version": 3
   },
   "file_extension": ".py",
   "mimetype": "text/x-python",
   "name": "python",
   "nbconvert_exporter": "python",
   "pygments_lexer": "ipython3",
   "version": "3.9.12"
  }
 },
 "nbformat": 4,
 "nbformat_minor": 1
}
